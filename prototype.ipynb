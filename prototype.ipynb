{
 "cells": [
  {
   "cell_type": "markdown",
   "metadata": {},
   "source": [
    "# Project Title\n",
    "### Data Engineering Capstone Project\n",
    "\n",
    "#### Project Summary\n",
    "--describe your project at a high level--\n",
    "\n",
    "The project follows the follow steps:\n",
    "* Step 0: Preparation and import data from s3\n",
    "* Step 1: Scope the Project and Gather Data\n",
    "* Step 2: Explore and Assess the Data\n",
    "* Step 3: Define the Data Model\n",
    "* Step 4: Run ETL to Model the Data\n",
    "* Step 5: Complete Project Write Up"
   ]
  },
  {
   "cell_type": "code",
   "execution_count": 1,
   "metadata": {
    "collapsed": true
   },
   "outputs": [
    {
     "name": "stdout",
     "output_type": "stream",
     "text": [
      "Requirement already satisfied: boto3 in /Users/ishirunkang/anaconda3/lib/python3.6/site-packages (1.14.20)\n",
      "Requirement already satisfied: s3transfer<0.4.0,>=0.3.0 in /Users/ishirunkang/anaconda3/lib/python3.6/site-packages (from boto3) (0.3.3)\n",
      "Requirement already satisfied: botocore<1.18.0,>=1.17.20 in /Users/ishirunkang/anaconda3/lib/python3.6/site-packages (from boto3) (1.17.20)\n",
      "Requirement already satisfied: jmespath<1.0.0,>=0.7.1 in /Users/ishirunkang/anaconda3/lib/python3.6/site-packages (from boto3) (0.10.0)\n",
      "Requirement already satisfied: urllib3<1.26,>=1.20; python_version != \"3.4\" in /Users/ishirunkang/anaconda3/lib/python3.6/site-packages (from botocore<1.18.0,>=1.17.20->boto3) (1.22)\n",
      "Requirement already satisfied: docutils<0.16,>=0.10 in /Users/ishirunkang/anaconda3/lib/python3.6/site-packages (from botocore<1.18.0,>=1.17.20->boto3) (0.14)\n",
      "Requirement already satisfied: python-dateutil<3.0.0,>=2.1 in /Users/ishirunkang/anaconda3/lib/python3.6/site-packages (from botocore<1.18.0,>=1.17.20->boto3) (2.8.1)\n",
      "Requirement already satisfied: six>=1.5 in /Users/ishirunkang/anaconda3/lib/python3.6/site-packages (from python-dateutil<3.0.0,>=2.1->botocore<1.18.0,>=1.17.20->boto3) (1.11.0)\n",
      "\u001b[33mWARNING: You are using pip version 19.2.3, however version 20.2.3 is available.\n",
      "You should consider upgrading via the 'pip install --upgrade pip' command.\u001b[0m\n",
      "Requirement already satisfied: s3fs in /Users/ishirunkang/anaconda3/lib/python3.6/site-packages (0.4.2)\n",
      "Requirement already satisfied: fsspec>=0.6.0 in /Users/ishirunkang/anaconda3/lib/python3.6/site-packages (from s3fs) (0.7.4)\n",
      "Requirement already satisfied: botocore>=1.12.91 in /Users/ishirunkang/anaconda3/lib/python3.6/site-packages (from s3fs) (1.17.20)\n",
      "Requirement already satisfied: python-dateutil<3.0.0,>=2.1 in /Users/ishirunkang/anaconda3/lib/python3.6/site-packages (from botocore>=1.12.91->s3fs) (2.8.1)\n",
      "Requirement already satisfied: urllib3<1.26,>=1.20; python_version != \"3.4\" in /Users/ishirunkang/anaconda3/lib/python3.6/site-packages (from botocore>=1.12.91->s3fs) (1.22)\n",
      "Requirement already satisfied: docutils<0.16,>=0.10 in /Users/ishirunkang/anaconda3/lib/python3.6/site-packages (from botocore>=1.12.91->s3fs) (0.14)\n",
      "Requirement already satisfied: jmespath<1.0.0,>=0.7.1 in /Users/ishirunkang/anaconda3/lib/python3.6/site-packages (from botocore>=1.12.91->s3fs) (0.10.0)\n",
      "Requirement already satisfied: six>=1.5 in /Users/ishirunkang/anaconda3/lib/python3.6/site-packages (from python-dateutil<3.0.0,>=2.1->botocore>=1.12.91->s3fs) (1.11.0)\n",
      "\u001b[33mWARNING: You are using pip version 19.2.3, however version 20.2.3 is available.\n",
      "You should consider upgrading via the 'pip install --upgrade pip' command.\u001b[0m\n",
      "Requirement already satisfied: pyspark in /Users/ishirunkang/anaconda3/lib/python3.6/site-packages (3.0.0)\n",
      "Requirement already satisfied: py4j==0.10.9 in /Users/ishirunkang/anaconda3/lib/python3.6/site-packages (from pyspark) (0.10.9)\n",
      "\u001b[33mWARNING: You are using pip version 19.2.3, however version 20.2.3 is available.\n",
      "You should consider upgrading via the 'pip install --upgrade pip' command.\u001b[0m\n",
      "Requirement already satisfied: cqlsh in /Users/ishirunkang/anaconda3/lib/python3.6/site-packages (5.0.4)\n",
      "Requirement already satisfied: cql in /Users/ishirunkang/anaconda3/lib/python3.6/site-packages (from cqlsh) (1.4.0)\n",
      "Requirement already satisfied: cassandra-driver in /Users/ishirunkang/anaconda3/lib/python3.6/site-packages (from cqlsh) (3.24.0)\n",
      "Requirement already satisfied: thrift in /Users/ishirunkang/anaconda3/lib/python3.6/site-packages (from cql->cqlsh) (0.13.0)\n",
      "Requirement already satisfied: six>=1.9 in /Users/ishirunkang/anaconda3/lib/python3.6/site-packages (from cassandra-driver->cqlsh) (1.11.0)\n",
      "Requirement already satisfied: geomet<0.3,>=0.1 in /Users/ishirunkang/anaconda3/lib/python3.6/site-packages (from cassandra-driver->cqlsh) (0.2.1.post1)\n",
      "Requirement already satisfied: click in /Users/ishirunkang/anaconda3/lib/python3.6/site-packages (from geomet<0.3,>=0.1->cassandra-driver->cqlsh) (6.7)\n",
      "\u001b[33mWARNING: You are using pip version 19.2.3, however version 20.2.3 is available.\n",
      "You should consider upgrading via the 'pip install --upgrade pip' command.\u001b[0m\n",
      "Requirement already satisfied: findspark in /Users/ishirunkang/anaconda3/lib/python3.6/site-packages (1.4.2)\n",
      "\u001b[33mWARNING: You are using pip version 19.2.3, however version 20.2.3 is available.\n",
      "You should consider upgrading via the 'pip install --upgrade pip' command.\u001b[0m\n",
      "Requirement already satisfied: pyarrow in /Users/ishirunkang/anaconda3/lib/python3.6/site-packages (1.0.1)\n",
      "Requirement already satisfied: numpy>=1.14 in /Users/ishirunkang/anaconda3/lib/python3.6/site-packages (from pyarrow) (1.19.1)\n",
      "\u001b[33mWARNING: You are using pip version 19.2.3, however version 20.2.3 is available.\n",
      "You should consider upgrading via the 'pip install --upgrade pip' command.\u001b[0m\n"
     ]
    }
   ],
   "source": [
    "#Before we continue, we need to install related python package.\n",
    "import sys\n",
    "\n",
    "!{sys.executable} -m pip install boto3\n",
    "!{sys.executable} -m pip install s3fs\n",
    "!{sys.executable} -m pip install pyspark\n",
    "!{sys.executable} -m pip install cqlsh\n",
    "!{sys.executable} -m pip install findspark\n",
    "!{sys.executable} -m pip install pyarrow"
   ]
  },
  {
   "cell_type": "code",
   "execution_count": 1,
   "metadata": {
    "collapsed": true
   },
   "outputs": [],
   "source": [
    "# Do all imports and installs here\n",
    "import configparser\n",
    "import pandas as pd\n",
    "import os\n",
    "import boto3\n",
    "import uuid\n",
    "from pyspark.sql import types as T\n",
    "from time import sleep"
   ]
  },
  {
   "cell_type": "code",
   "execution_count": 2,
   "metadata": {
    "collapsed": true
   },
   "outputs": [],
   "source": [
    "config = configparser.ConfigParser()\n",
    "config.read('iam.cfg')\n",
    "os.environ['AWS_ACCESS_KEY_ID']=config['AWS_CREDS']['AWS_ACCESS_KEY_ID']\n",
    "os.environ['AWS_SECRET_ACCESS_KEY']=config['AWS_CREDS']['AWS_SECRET_ACCESS_KEY']\n",
    "\n",
    "client=boto3.client('s3')\n",
    "\n",
    "\n",
    "# # Set spark environments\n",
    "# os.environ['PYSPARK_PYTHON'] = '/usr/local/bin/python3'\n",
    "# os.environ['PYSPARK_DRIVER_PYTHON'] = '/usr/local/bin/python3'"
   ]
  },
  {
   "cell_type": "markdown",
   "metadata": {},
   "source": [
    "### Scope the Project and Gather Data\n",
    "\n",
    "#### Project description:\n",
    "\n",
    "This project will be separate to multiple parts, and all four dataset will be used. \n",
    "\n",
    "Before we talk about the details, we need to know the characteristics of relational DB and non-relational DB.\n",
    "\n",
    "For relational DB, its characteristics is low redundancy and high completeness, which means it is very suitable for small or medium size data, and the database does not change so much. In our case, we should store temperature, airport code and US cities demographic data into a relational database that meets 3NF because it does not always change so much and the volume of data is not that large.\n",
    "\n",
    "The final solution will work as a a database management system. When user input the time or time period and the column they interested in (e.g., visa type), the system will return related data as a dataframe. For example, a user needs to know where are the busiest airport for investment visa holder(E-1 visa) in 2016 and its basic information such as temperature, and the status of the city such as population(age, majority race, etc.), or when is the peak-time for international student come to the United States and where are they come from.\n",
    "\n",
    "* Data will be imported from Amazon S3\n",
    "* Non-Relationalship DB will be implement on Amazon Keyspace, and data backup will be stored at S3 as parquet format.\n",
    "* Data cleaning and ETL process will be implement on Amazon EMR with Spark\n",
    "\n",
    "#### The dataset is going to use in this project are:\n",
    "\n",
    "* I94 Immigration Data: This data comes from the US National Tourism and Trade Office. A data dictionary is included in the workspace. https://travel.trade.gov/research/reports/i94/historical/2016.html is where the data comes from. There's a sample file so you can take a look at the data in csv format before reading it all in. You do not have to use the entire dataset, just use what you need to accomplish the goal you set at the beginning of the project.\n",
    "* World Temperature Data: This dataset came from Kaggle. You can read more about it here: https://www.kaggle.com/berkeleyearth/climate-change-earth-surface-temperature-data.\n",
    "* U.S. City Demographic Data: This data comes from OpenSoft. You can read more about it here: https://public.opendatasoft.com/explore/dataset/us-cities-demographics/export/.\n",
    "* Airport Code Table: This is a simple table of airport codes and corresponding cities. It comes from here:https://datahub.io/core/airport-codes#data."
   ]
  },
  {
   "cell_type": "markdown",
   "metadata": {},
   "source": [
    "### Step 2: Explore and Assess the Data\n",
    "#### Explore the Data \n",
    "Identify data quality issues, like missing values, duplicate data, etc.\n",
    "\n",
    "#### Cleaning Steps\n",
    "Document steps necessary to clean the data"
   ]
  },
  {
   "cell_type": "code",
   "execution_count": 8,
   "metadata": {
    "collapsed": true
   },
   "outputs": [],
   "source": [
    "import pyspark\n",
    "from pyspark.sql import SparkSession\n",
    "from pyspark.sql.functions import udf\n",
    "from pyspark.sql import SQLContext\n",
    "from pyspark.sql import types as T\n",
    "from pyspark.sql.types import *\n",
    "from pyspark import SparkContext\n",
    "\n",
    "spark = SparkSession.builder.\\\n",
    "config(\"spark.jars.packages\",\"saurfang:spark-sas7bdat:2.0.0-s_2.11\")\\\n",
    ".config(\"spark.hadoop.fs.s3a.impl\",\"org.apache.hadoop.fs.s3a.S3AFileSystem\") \\\n",
    ".config(\"spark.driver.memory\", \"15g\")\\\n",
    ".enableHiveSupport().getOrCreate()\n",
    "spark.conf.set(\"spark.sql.execution.arrow.enabled\", \"true\")"
   ]
  },
  {
   "cell_type": "code",
   "execution_count": 4,
   "metadata": {
    "collapsed": true
   },
   "outputs": [],
   "source": [
    "i94 = pd.read_sas('i94_jan16_sub.sas7bdat', 'sas7bdat',encoding=\"ISO-8859-1\").drop_duplicates()\n",
    "i94['id_'] = pd.Series([str(uuid.uuid1()) for each in range(len(i94))])\n",
    "i94['arrival_date'] = pd.to_timedelta(i94['arrdate'],unit='D') + pd.Timestamp('1960-1-1')\n",
    "i94=spark.createDataFrame(i94)\n",
    "sql=\"\"\"SELECT i94yr AS year,i94mon AS month,i94cit AS citizenship,\n",
    "              i94res AS resident,i94port AS port,\n",
    "              arrival_date,i94mode AS mode,\n",
    "              i94addr AS us_state,depdate AS depart_date,\n",
    "              i94bir AS age,i94visa visa_category,\n",
    "              dtadfile AS date_added,visapost AS visa_issued_by,\n",
    "              occup AS occupation,entdepa AS arrival_flag,\n",
    "              entdepd AS depart_flag,entdepu AS update_flag,\n",
    "              matflag AS match_arrival_depart_flag,\n",
    "              biryear AS birth_year,dtaddto AS allowed_date,\n",
    "              gender,insnum AS ins_number,airline,\n",
    "              admnum AS admission_number,\n",
    "              fltno AS flight_no,visatype,id_\n",
    "              FROM i94;\n",
    "       \"\"\"\n",
    "i94_df=spark.sql(sql)"
   ]
  },
  {
   "cell_type": "code",
   "execution_count": 503,
   "metadata": {
    "collapsed": true
   },
   "outputs": [],
   "source": [
    "airport_codes_url = 's3://srk-data-eng-capstone/airport-codes_csv.csv'\n",
    "us_city_demographics_url = 's3://srk-data-eng-capstone/us-cities-demographics.csv'"
   ]
  },
  {
   "cell_type": "code",
   "execution_count": 91,
   "metadata": {
    "collapsed": true
   },
   "outputs": [],
   "source": [
    "airport_codes = pd.read_csv(airport_codes_url)\n",
    "airport_codes = spark.createDataFrame(airport_codes)\n",
    "airport_codes.createOrReplaceTempView('airports')\n",
    "sql = \"\"\"SELECT ident, type, name, elevation_ft, continent, \n",
    "                iso_country, iso_region, municipality, gps_code, iata_code AS airport_code, coordinates\n",
    "         FROM airports WHERE iata_code IS NOT NULL\n",
    "         UNION\n",
    "         SELECT ident, type, name, elevation_ft, continent,\n",
    "                iso_country, iso_region, municipality, gps_code, local_code AS airport_code, coordinates\n",
    "         FROM airports WHERE local_code IS NOT NULL\"\"\"\n",
    "airports = spark.sql(sql)"
   ]
  },
  {
   "cell_type": "code",
   "execution_count": 504,
   "metadata": {
    "collapsed": true
   },
   "outputs": [],
   "source": [
    "us_city_demographics=pd.read_csv(us_city_demographics_url, sep=';')\n",
    "us_city_demographics=spark.createDataFrame(us_city_demographics)\n",
    "us_city_demographics.createOrReplaceTempView('us_cities')\n",
    "sql=\"\"\"SELECT city, `Median Age` AS median_age, `Male Population` AS male_population,\n",
    "              `Female Population` AS female_population, `Total Population` AS population,\n",
    "              `Number of Veterans` AS num_veterans, `Foreign-born` AS foreign_born, `Average Household Size` AS avg_household_size,\n",
    "              `State Code` AS state, race, count\n",
    "       FROM us_cities\"\"\"\n",
    "us_cities = spark.sql(sql)"
   ]
  },
  {
   "cell_type": "code",
   "execution_count": null,
   "metadata": {
    "collapsed": true
   },
   "outputs": [],
   "source": [
    "def mapping_processor(names):\n",
    "    origin=open('mappings/{}.txt'.format(names),'r')\n",
    "    code=[]\n",
    "    name=[]\n",
    "    for each in origin:\n",
    "        line=\" \".join(each.split())\n",
    "        try:\n",
    "            code.append(int(line[:line.index('=')]))\n",
    "        except:\n",
    "            code.append(line[1:line.index('=')-1])\n",
    "        name.append(line[line.index('=')+2:-1])\n",
    "    origin.close()\n",
    "    col_code=names+'_code'\n",
    "    col_name=names+'_name'\n",
    "    df=pd.DataFrame(list(zip(code,name)),columns=[col_code,col_name])\n",
    "    df=spark.createDataFrame(df)\n",
    "    return df\n",
    "\n",
    "country=mapping_processor('country')\n",
    "mode=mapping_processor('mode')\n",
    "port=mapping_processor('port')\n",
    "us_states=mapping_processor('us_states')\n",
    "visacode=mapping_processor('visacode')"
   ]
  },
  {
   "cell_type": "code",
   "execution_count": 581,
   "metadata": {
    "collapsed": true
   },
   "outputs": [],
   "source": [
    "country.createOrReplaceTempView('country')\n",
    "mode.createOrReplaceTempView('mode')\n",
    "port.createOrReplaceTempView('port')\n",
    "us_states.createOrReplaceTempView('us_states')\n",
    "visacode.createOrReplaceTempView('visacode')\n",
    "i94_df.createOrReplaceTempView('i94')\n",
    "airports.createOrReplaceTempView('airports')\n",
    "us_cities.createOrReplaceTempView('us_cities')"
   ]
  },
  {
   "cell_type": "markdown",
   "metadata": {},
   "source": [
    "### Step 3: Define the Data Model\n",
    "#### 3.1 Conceptual Data Model\n",
    "After analysing all columns from all datasets, I found it is very hard to connect temperature table to the rest of table. Hence, we only choose airport and the US cities demographics. And according to i94 metadata(\n",
    "https://github.com/dai-dao/udacity-data-engineering-capstone/blob/master/I94_SAS_Labels_Descriptions.SAS), we create mapping data for country, the US states, visacode and the way to cross the US border(mode). \n",
    "\n",
    "\n",
    "\n",
    "#### 3.2 Mapping Out Data Pipelines\n",
    "-Read SAS files to pandas dataframe, and add an ID to all rows(one row represent a cross-boarder report).\n",
    "\n",
    "-Convert SAS time format to datetime format.\n",
    "\n",
    "-Convert original column name to the column name easier to understand.\n",
    "\n",
    "-Combine local airport code and IATA airport code as airport code.\n",
    "\n",
    "-Convert US city demographic to spark dataframe and modify its column name to easy-read name.\n",
    "\n",
    "-Define a function for mapping table generate.\n",
    "\n",
    "-Create table for all tables."
   ]
  },
  {
   "cell_type": "markdown",
   "metadata": {},
   "source": [
    "### Step 4: Run Pipelines to Model the Data \n",
    "#### 4.1 Create the data model\n",
    "Build the data pipelines to create the data model."
   ]
  },
  {
   "cell_type": "code",
   "execution_count": 19,
   "metadata": {
    "collapsed": true
   },
   "outputs": [],
   "source": [
    "import configparser\n",
    "import pandas as pd\n",
    "import os\n",
    "import uuid\n",
    "\n",
    "from pyspark.sql import SparkSession\n",
    "\n",
    "def spark_generator():\n",
    "    spark = SparkSession.builder.\\\n",
    "    config(\"spark.jars.packages\", \"org.apache.hadoop:hadoop-aws:2.7.0\")\\\n",
    "    .config(\"spark.hadoop.fs.s3a.impl\",\"org.apache.hadoop.fs.s3a.S3AFileSystem\") \\\n",
    "    .config(\"spark.driver.memory\", \"15g\")\\\n",
    "    .enableHiveSupport().getOrCreate()\n",
    "    spark.conf.set(\"spark.sql.execution.arrow.enabled\", \"true\")\n",
    "    return spark\n",
    "\n",
    "def immigration_data(year, month):\n",
    "    i94 = pd.read_sas(('i94_'+str(month)+str(year)+'_sub.sas7bdat'), 'sas7bdat',encoding=\"ISO-8859-1\").drop_duplicates()\n",
    "    i94['id_'] = pd.Series([str(uuid.uuid1()) for each in range(len(i94))])\n",
    "    i94['arrival_date'] = pd.to_timedelta(i94['arrdate'],unit='D') + pd.Timestamp('1960-1-1')\n",
    "    i94=spark.createDataFrame(i94)\n",
    "    i94.createOrReplaceTempView('i94')\n",
    "    sql=\"\"\"SELECT i94yr AS year,i94mon AS month,i94cit AS citizenship,\n",
    "              i94res AS resident,i94port AS port,\n",
    "              arrival_date,i94mode AS mode,\n",
    "              i94addr AS us_state,depdate AS depart_date,\n",
    "              i94bir AS age,i94visa visa_category,\n",
    "              dtadfile AS date_added,visapost AS visa_issued_by,\n",
    "              occup AS occupation,entdepa AS arrival_flag,\n",
    "              entdepd AS depart_flag,entdepu AS update_flag,\n",
    "              matflag AS match_arrival_depart_flag,\n",
    "              biryear AS birth_year,dtaddto AS allowed_date,\n",
    "              gender,insnum AS ins_number,airline,\n",
    "              admnum AS admission_number,\n",
    "              fltno AS flight_no,visatype,id_\n",
    "              FROM i94;\n",
    "       \"\"\"\n",
    "    i94_df=spark.sql(sql)\n",
    "    i94_df.write.mode('overwrite')\\\n",
    "           .partitionBy('month','year')\\\n",
    "           .format('parquet')\\\n",
    "            .option(\"compression\", \"gzip\")\\\n",
    "            .save('parquet_data/'+str(month) + '_' + str(year) + '.parquet')\n",
    "    print('i94 parquet generation complete.-' + str(month) + '_' + str(year))\n",
    "\n",
    "def airport():\n",
    "    airport_codes_url = 's3://srk-data-eng-capstone/airport-codes_csv.csv'\n",
    "    airport_codes = pd.read_csv(airport_codes_url)\n",
    "    airport_codes = spark.createDataFrame(airport_codes)\n",
    "    airport_codes.createOrReplaceTempView('airports')\n",
    "    sql = \"\"\"SELECT ident, type, name, elevation_ft, continent, \n",
    "                iso_country, iso_region, municipality, gps_code, iata_code AS airport_code, coordinates\n",
    "         FROM airports WHERE iata_code IS NOT NULL\n",
    "         UNION\n",
    "         SELECT ident, type, name, elevation_ft, continent,\n",
    "                iso_country, iso_region, municipality, gps_code, local_code AS airport_code, coordinates\n",
    "         FROM airports WHERE local_code IS NOT NULL\"\"\"\n",
    "    airports = spark.sql(sql)\n",
    "    airports.write.mode('overwrite')\\\n",
    "            .format('parquet')\\\n",
    "            .option(\"compression\", \"gzip\")\\\n",
    "            .save('parquet_data/airports.parquet')\n",
    "    print('Airport parquet generation complete.')\n",
    "    \n",
    "def us_cities():\n",
    "    us_city_demographics_url = 's3://srk-data-eng-capstone/us-cities-demographics.csv'\n",
    "    us_city_demographics=pd.read_csv(us_city_demographics_url, sep=';')\n",
    "    us_city_demographics=spark.createDataFrame(us_city_demographics)\n",
    "    us_city_demographics.createOrReplaceTempView('us_cities')\n",
    "    sql=\"\"\"SELECT city, `Median Age` AS median_age, `Male Population` AS male_population,\n",
    "              `Female Population` AS female_population, `Total Population` AS population,\n",
    "              `Number of Veterans` AS num_veterans, `Foreign-born` AS foreign_born, `Average Household Size` AS avg_household_size,\n",
    "              `State Code` AS state, race, count\n",
    "       FROM us_cities\"\"\"\n",
    "    us_cities = spark.sql(sql)\n",
    "    us_cities.write.mode('overwrite')\\\n",
    "             .format('parquet')\\\n",
    "             .option('compression','gzip')\\\n",
    "             .save('parquet_data/us_cities.parquet')\n",
    "    print('US cities parquet generation complete.')\n",
    "    \n",
    "def mapping(names):\n",
    "    origin=open('mappings/{}.txt'.format(names),'r')\n",
    "    code=[]\n",
    "    name=[]\n",
    "    for each in origin:\n",
    "        line=\" \".join(each.split())\n",
    "        try:\n",
    "            code.append(int(line[:line.index('=')]))\n",
    "        except:\n",
    "            code.append(line[1:line.index('=')-1])\n",
    "        name.append(line[line.index('=')+2:-1])\n",
    "    origin.close()\n",
    "    col_code=names+'_code'\n",
    "    col_name=names+'_name'\n",
    "    df=pd.DataFrame(list(zip(code,name)),columns=[col_code,col_name])\n",
    "    df=spark.createDataFrame(df)\n",
    "    df.write.mode('overwrite')\\\n",
    "      .format('parquet')\\\n",
    "        .option('compression','gzip')\\\n",
    "        .save('parquet_data/' + names + '.parquet')\n",
    "    print(names + ' parquet generation complete.')\n",
    "\n",
    "def upload_files(filename):\n",
    "    config = configparser.ConfigParser()\n",
    "    config.read('iam.cfg')\n",
    "    os.environ['AWS_ACCESS_KEY_ID']=config['AWS_CREDS']['AWS_ACCESS_KEY_ID']\n",
    "    os.environ['AWS_SECRET_ACCESS_KEY']=config['AWS_CREDS']['AWS_SECRET_ACCESS_KEY']\n",
    "    \n",
    "    os.system('aws s3 cp parquet_data/{}.parquet s3://i94-backup --recursive'.format(filename))\n",
    "    print(filename + ' is uploaded to bucket i94-backup')\n",
    "    "
   ]
  },
  {
   "cell_type": "code",
   "execution_count": 20,
   "metadata": {},
   "outputs": [
    {
     "name": "stdout",
     "output_type": "stream",
     "text": [
      "i94 parquet generation complete.-jan_16\n",
      "Airport parquet generation complete.\n",
      "US cities parquet generation complete.\n",
      "country parquet generation complete.\n",
      "us_states parquet generation complete.\n",
      "visacode parquet generation complete.\n",
      "mode parquet generation complete.\n",
      "jan_16 is uploaded to bucket i94-backup\n",
      "airports is uploaded to bucket i94-backup\n",
      "country is uploaded to bucket i94-backup\n",
      "mode is uploaded to bucket i94-backup\n",
      "us_cities is uploaded to bucket i94-backup\n",
      "us_states is uploaded to bucket i94-backup\n",
      "visacode is uploaded to bucket i94-backup\n"
     ]
    }
   ],
   "source": [
    "spark=spark_generator()\n",
    "immigration_data(16,'jan')\n",
    "airport()\n",
    "us_cities()\n",
    "mapping_list=['country','us_states','visacode','mode']\n",
    "for each in mapping_list:\n",
    "    mapping(each)\n",
    "uploading_list=['jan_16','airports','country','mode','us_cities','us_states','visacode']\n",
    "for each in uploading_list:\n",
    "    upload_files(each)"
   ]
  },
  {
   "cell_type": "markdown",
   "metadata": {},
   "source": [
    "#### 4.2 Data Quality Checks\n",
    "Explain the data quality checks you'll perform to ensure the pipeline ran as expected. These could include:\n",
    " * Integrity constraints on the relational database (e.g., unique key, data type, etc.)\n",
    " * Unit tests for the scripts to ensure they are doing the right thing\n",
    " * Source/Count checks to ensure completeness\n",
    " \n",
    "Run Quality Checks"
   ]
  },
  {
   "cell_type": "code",
   "execution_count": 11,
   "metadata": {},
   "outputs": [
    {
     "name": "stdout",
     "output_type": "stream",
     "text": [
      "2847924\n",
      "2847924\n"
     ]
    }
   ],
   "source": [
    "spark = spark_generator()\n",
    "jan_16 = spark.read.parquet('parquet_data/jan_16.parquet')\n",
    "jan_16.createOrReplaceTempView('i94')\n",
    "sql = \"\"\"SELECT DISTINCT id_ FROM i94\"\"\"\n",
    "temp = spark.sql(sql)\n",
    "sql = \"\"\"SELECT id_ FROM i94\"\"\"\n",
    "temp2 = spark.sql(sql)\n",
    "print(temp.count())\n",
    "print(temp2.count())"
   ]
  },
  {
   "cell_type": "code",
   "execution_count": 4,
   "metadata": {},
   "outputs": [
    {
     "name": "stdout",
     "output_type": "stream",
     "text": [
      "0\n",
      "0\n",
      "36100\n",
      "36100\n"
     ]
    }
   ],
   "source": [
    "airport = spark.read.parquet('parquet_data/airports.parquet')\n",
    "airport.createOrReplaceTempView('airports')\n",
    "sql = \"\"\"SELECT airport_code FROM airports WHERE airport_code IS NULL\"\"\"\n",
    "temp = spark.sql(sql)\n",
    "sql = \"\"\"SELECT ident FROM airports WHERE ident IS NULL\"\"\"\n",
    "temp2 = spark.sql(sql)\n",
    "sql = \"\"\"SELECT ident, airport_code FROM airports\"\"\"\n",
    "temp3 = spark.sql(sql)\n",
    "sql = \"\"\"SELECT * FROM airports\"\"\"\n",
    "temp4 = spark.sql(sql)\n",
    "print(temp.count())\n",
    "print(temp2.count())\n",
    "print(temp3.count())\n",
    "print(temp4.count())\n"
   ]
  },
  {
   "cell_type": "code",
   "execution_count": 5,
   "metadata": {},
   "outputs": [
    {
     "name": "stdout",
     "output_type": "stream",
     "text": [
      "0\n",
      "0\n",
      "2891\n",
      "2891\n"
     ]
    }
   ],
   "source": [
    "us_cities = spark.read.parquet('parquet_data/us_cities.parquet')\n",
    "us_cities.createOrReplaceTempView('us_cities')\n",
    "sql = \"\"\"SELECT city FROM us_cities WHERE city IS NULL\"\"\"\n",
    "temp = spark.sql(sql)\n",
    "sql = \"\"\"SELECT state FROM us_cities WHERE state IS NULL\"\"\"\n",
    "temp2 = spark.sql(sql)\n",
    "sql = \"\"\"SELECT * FROM us_cities\"\"\"\n",
    "temp3 = spark.sql(sql)\n",
    "sql = \"\"\"SELECT city, state FROM us_cities\"\"\"\n",
    "temp4 = spark.sql(sql)\n",
    "print(temp.count())\n",
    "print(temp2.count())\n",
    "print(temp3.count())\n",
    "print(temp4.count())"
   ]
  },
  {
   "cell_type": "markdown",
   "metadata": {},
   "source": [
    "#### 4.3 Data dictionary \n",
    "Create a data dictionary for your data model. For each field, provide a brief description of what the data is and where it came from. You can include the data dictionary in the notebook or in a separate file."
   ]
  },
  {
   "cell_type": "markdown",
   "metadata": {},
   "source": [
    "<img src=\"Pasted Graphic 3.png\">"
   ]
  },
  {
   "cell_type": "code",
   "execution_count": 16,
   "metadata": {},
   "outputs": [
    {
     "name": "stdout",
     "output_type": "stream",
     "text": [
      "i94 data. comes from daily record in each port:\n",
      "root\n",
      " |-- citizenship: double (nullable = true)\n",
      " |-- resident: double (nullable = true)\n",
      " |-- port: string (nullable = true)\n",
      " |-- arrival_date: timestamp (nullable = true)\n",
      " |-- mode: double (nullable = true)\n",
      " |-- us_state: string (nullable = true)\n",
      " |-- depart_date: double (nullable = true)\n",
      " |-- age: double (nullable = true)\n",
      " |-- visa_category: double (nullable = true)\n",
      " |-- date_added: string (nullable = true)\n",
      " |-- visa_issued_by: string (nullable = true)\n",
      " |-- occupation: string (nullable = true)\n",
      " |-- arrival_flag: string (nullable = true)\n",
      " |-- depart_flag: string (nullable = true)\n",
      " |-- update_flag: string (nullable = true)\n",
      " |-- match_arrival_depart_flag: string (nullable = true)\n",
      " |-- birth_year: double (nullable = true)\n",
      " |-- allowed_date: string (nullable = true)\n",
      " |-- gender: string (nullable = true)\n",
      " |-- ins_number: string (nullable = true)\n",
      " |-- airline: string (nullable = true)\n",
      " |-- admission_number: double (nullable = true)\n",
      " |-- flight_no: string (nullable = true)\n",
      " |-- visatype: string (nullable = true)\n",
      " |-- id_: string (nullable = true)\n",
      " |-- month: double (nullable = true)\n",
      " |-- year: double (nullable = true)\n",
      "\n",
      "airport data: \n",
      "root\n",
      " |-- ident: string (nullable = true)\n",
      " |-- type: string (nullable = true)\n",
      " |-- name: string (nullable = true)\n",
      " |-- elevation_ft: double (nullable = true)\n",
      " |-- continent: string (nullable = true)\n",
      " |-- iso_country: string (nullable = true)\n",
      " |-- iso_region: string (nullable = true)\n",
      " |-- municipality: string (nullable = true)\n",
      " |-- gps_code: string (nullable = true)\n",
      " |-- airport_code: string (nullable = true)\n",
      " |-- coordinates: string (nullable = true)\n",
      "\n",
      "US cities data: \n",
      "root\n",
      " |-- city: string (nullable = true)\n",
      " |-- median_age: double (nullable = true)\n",
      " |-- male_population: double (nullable = true)\n",
      " |-- female_population: double (nullable = true)\n",
      " |-- population: long (nullable = true)\n",
      " |-- num_veterans: double (nullable = true)\n",
      " |-- foreign_born: double (nullable = true)\n",
      " |-- avg_household_size: double (nullable = true)\n",
      " |-- state: string (nullable = true)\n",
      " |-- race: string (nullable = true)\n",
      " |-- count: long (nullable = true)\n",
      "\n",
      "visacode,us_states and mode view are mapping view.\n"
     ]
    }
   ],
   "source": [
    "print('i94 data. comes from daily record in each port:')\n",
    "jan_16.printSchema()\n",
    "print('airport data: ')\n",
    "airport.printSchema()\n",
    "print('US cities data: ')\n",
    "us_cities.printSchema()\n",
    "print('visacode,us_states and mode view are mapping view.')"
   ]
  },
  {
   "cell_type": "markdown",
   "metadata": {},
   "source": [
    "#### Step 5: Complete Project Write Up\n",
    "* Clearly state the rationale for the choice of tools and technologies for the project.\n",
    "* Propose how often the data should be updated and why.\n",
    "* Write a description of how you would approach the problem differently under the following scenarios:\n",
    " * The data was increased by 100x.\n",
    " * The data populates a dashboard that must be updated on a daily basis by 7am every day.\n",
    " * The database needed to be accessed by 100+ people."
   ]
  },
  {
   "cell_type": "markdown",
   "metadata": {
    "collapsed": true
   },
   "source": [
    "If the data was increased by 100X, we should use EMR with more nodes or more advanced EMR node, or both."
   ]
  },
  {
   "cell_type": "markdown",
   "metadata": {},
   "source": [
    "The data populates a dashboard that must be updated on a daily basis by 7am every day.\n",
    "\n",
    "In this situation, after 7am, we can import data into a NoSQL database like below:"
   ]
  },
  {
   "cell_type": "code",
   "execution_count": null,
   "metadata": {
    "collapsed": true
   },
   "outputs": [],
   "source": [
    "from cassandra.cluster import Cluster\n",
    "from ssl import SSLContext, PROTOCOL_TLSv1, CERT_REQUIRED\n",
    "from cassandra.auth import PlainTextAuthProvider\n",
    "from cassandra import ConsistencyLevel\n",
    "\n",
    "ssl_context = SSLContext(PROTOCOL_TLSv1)\n",
    "ssl_context.load_verify_locations('AmazonRootCA1.pem')\n",
    "ssl_context.verify_mode = CERT_REQUIRED\n",
    "auth_provider = PlainTextAuthProvider(username=str(config['APACHE_CASSANDRA_CREDS']['CASSANDRA_USERNAME']), password=str(config['APACHE_CASSANDRA_CREDS']['CASSANDRA_PASSWORD']))\n",
    "cluster = Cluster(['cassandra.eu-west-1.amazonaws.com'], ssl_context=ssl_context, auth_provider=auth_provider, port=9142)\n",
    "print('Patient...')\n",
    "session = cluster.connect()\n",
    "\n",
    "create_keyspace=\"\"\"CREATE KEYSPACE IF NOT EXISTS \"i94\"\n",
    "                   WITH REPLICATION={'class':'SingleRegionStrategy'}\"\"\"\n",
    "session.execute(create_keyspace)\n",
    "sleep(10)\n",
    "\n",
    "create_table=\"\"\"CREATE TABLE IF NOT EXISTS \"i94\".i94 (\n",
    "                                                      year DOUBLE,\n",
    "                                                      month DOUBLE,\n",
    "                                                      birth_country DOUBLE,\n",
    "                                                      resident_country DOUBLE,\n",
    "                                                      port TEXT,\n",
    "                                                      arrive_date DOUBLE,\n",
    "                                                      mode DOUBLE,\n",
    "                                                      state_code TEXT,\n",
    "                                                      departure_date DOUBLE,\n",
    "                                                      age DOUBLE,\n",
    "                                                      visa DOUBLE,\n",
    "                                                      date_to_db DOUBLE,\n",
    "                                                      visa_issued_dep TEXT,\n",
    "                                                      occupation TEXT,\n",
    "                                                      arrival_flag TEXT,\n",
    "                                                      depart_flag TEXT,\n",
    "                                                      update_flag TEXT,\n",
    "                                                      match_arrival_depart TEXT,\n",
    "                                                      birthyear DOUBLE,\n",
    "                                                      allowed_date TEXT,\n",
    "                                                      gender TEXT,\n",
    "                                                      ins_num TEXT,\n",
    "                                                      airline TEXT,\n",
    "                                                      admission_number DOUBLE,\n",
    "                                                      flight_no TEXT,\n",
    "                                                      visatype TEXT,\n",
    "                                                      id_ TEXT,\n",
    "                                                      PRIMARY KEY(id_)\n",
    "                ) \"\"\"\n",
    "session.execute(create_table)\n",
    "sleep(10)\n",
    "print('Table well-prepared. you can input data from dataset.')"
   ]
  },
  {
   "cell_type": "markdown",
   "metadata": {},
   "source": [
    "For non-relational DB, its characteristics is higher elasticity, faster read & write speed and evoving data volume. In our case, we should save I94 data into non-relational DB. Because this piece of data need to make ETL process almost every minutes in real world background, and it need dynamic write and read for real-time data monitoring. "
   ]
  },
  {
   "cell_type": "code",
   "execution_count": null,
   "metadata": {
    "collapsed": true
   },
   "outputs": [],
   "source": [
    "original_sql=\"\"\"INSERT INTO \"i94\".i94 (\"cicid\",\"i94yr\",\"i94mon\",\"i94cit\",\"i94res\",\"i94port\",\"arrdate\",\"i94mode\",\"i94addr\",\"depdate\",\n",
    "                              \"i94bir\",\"i94visa\",\"count\",\"dtadfile\",\"visapost\",\"occup\",\"entdepa\",\"entdepd\",\"entdepu\",\"matflag\",\n",
    "                              \"biryear\",\"dtaddto\",\"gender\",\"insnum\",\"airline\",\"admnum\",\"fltno\",\"visatype\",\"id_\")\n",
    "                              VALUES ({0},{1},{2},{3},{4},'{5}',{6},{7},'{8}',{9},\n",
    "                                      {10},{11},{12},{13},'{14}','{15}','{16}','{17}','{18}','{19}',\n",
    "                                      {20},'{21}','{22}','{23}','{24}',{25},'{26}','{27}','{28}')\"\"\"\n",
    "\n",
    "lists=[888,1991,10,999,666,'port_test',9527,777,'addr_test',10,10,10,10,10,\"visapost\",'occup','entdepa','entdepd',\n",
    "      'entdepu','mat',1984,'dtaddto','M','insnumber','AerLingus',29,'filtnumber','H1B']\n",
    "sql=original_sql.format(lists[0],lists[1],lists[2],lists[3],lists[4],lists[5],lists[6],lists[7],lists[8],lists[9],\n",
    "                       lists[10],lists[11],lists[12],lists[13],lists[14],lists[15],lists[16],lists[17],lists[18],lists[19],\n",
    "                       lists[20],lists[21],lists[22],lists[23],lists[24],lists[25],lists[26],lists[27],uuid.uuid1())\n",
    "sql=session.prepare(sql)\n",
    "sql.consistency_level = ConsistencyLevel.LOCAL_QUORUM\n",
    "session.execute(sql)\n",
    "\n",
    "# This part is going to be used in transcript.\n",
    "\n",
    "# while True:\n",
    "#     values=input(\"Insert data. Split values by comma. If data is empty, just input comma. Enter Q for quit.\")\n",
    "#     lists=values.split(',')\n",
    "#     if len(values) < 28:\n",
    "#         print('Did you lose something?')\n",
    "#         continue\n",
    "#     elif values.lower() == 'Q':\n",
    "#         print('Quit.')\n",
    "#         break\n",
    "#     else:\n",
    "#         sql=session.format(sql)\n",
    "#         sql.consistency_level = ConsistencyLevel.LOCAL_QUORUM\n",
    "#         session.execute(sql.format(lists[0],lists[1],lists[2],lists[3],lists[4],lists[5],lists[6],lists[7],lists[8],lists[9],\n",
    "#                       lists[10],lists[11],lists[12],lists[13],lists[14],lists[15],lists[16],lists[17],lists[18],lists[19],\n",
    "#                       lists[20],lists[21],lists[22],lists[23],lists[24],lists[25],lists[26],lists[27],uuid.uuid1()))\n",
    "#         next_one=input('Done. Do you wish to continue?Y/N')\n",
    "#         if next_one.lower() == 'y':\n",
    "#             continue\n",
    "#         else:\n",
    "#             print('Thanks. Quit.')\n",
    "#             break\n",
    "\n",
    "\n",
    "temp = session.execute('SELECT * FROM i94.i94')\n",
    "df = pd.DataFrame(temp, columns=['id_','admnum','airline','arrdate','biryear','cicid','count','depdate','dtadtto','dtadfile','entdepa','entdepd','entdepu','fltno','gender','i94addr','i94bir','i94cit','i94mode','i94mon','i94port','i94res','i94visa','i94yr','insnum','matflag','occup','visapost','visatype'])\n",
    "df.to_parquet('parquet_data/dashboard.parquet.gzip',compression='gzip')\n",
    "os.system('aws s3 cp parquet_data/dashboard.parquet s3://i94-backup --recursive')"
   ]
  },
  {
   "cell_type": "markdown",
   "metadata": {},
   "source": [
    "And we run the script above at 7AM everyday to create a parquet file, upload it to S3."
   ]
  },
  {
   "cell_type": "markdown",
   "metadata": {
    "collapsed": true
   },
   "source": [
    "The database needed to be accessed by 100+ people.\n",
    "\n",
    "Firstly, these 100+ people should have different "
   ]
  },
  {
   "cell_type": "code",
   "execution_count": null,
   "metadata": {
    "collapsed": true
   },
   "outputs": [],
   "source": []
  }
 ],
 "metadata": {
  "kernelspec": {
   "display_name": "Python 3",
   "language": "python",
   "name": "python3"
  },
  "language_info": {
   "codemirror_mode": {
    "name": "ipython",
    "version": 3
   },
   "file_extension": ".py",
   "mimetype": "text/x-python",
   "name": "python",
   "nbconvert_exporter": "python",
   "pygments_lexer": "ipython3",
   "version": "3.6.8"
  }
 },
 "nbformat": 4,
 "nbformat_minor": 2
}
