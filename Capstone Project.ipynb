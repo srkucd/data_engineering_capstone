{
 "cells": [
  {
   "cell_type": "markdown",
   "metadata": {},
   "source": [
    "# Project Title\n",
    "### Data Engineering Capstone Project\n",
    "\n",
    "#### Project Summary\n",
    "--describe your project at a high level--\n",
    "\n",
    "The project follows the follow steps:\n",
    "* Step 0: Preparation and import data from s3\n",
    "* Step 1: Scope the Project and Gather Data\n",
    "* Step 2: Explore and Assess the Data\n",
    "* Step 3: Define the Data Model\n",
    "* Step 4: Run ETL to Model the Data\n",
    "* Step 5: Complete Project Write Up"
   ]
  },
  {
   "cell_type": "code",
   "execution_count": 1,
   "metadata": {
    "collapsed": true
   },
   "outputs": [
    {
     "name": "stdout",
     "output_type": "stream",
     "text": [
      "Requirement already satisfied: boto3 in /Users/ishirunkang/anaconda3/lib/python3.6/site-packages (1.14.20)\n",
      "Requirement already satisfied: s3transfer<0.4.0,>=0.3.0 in /Users/ishirunkang/anaconda3/lib/python3.6/site-packages (from boto3) (0.3.3)\n",
      "Requirement already satisfied: botocore<1.18.0,>=1.17.20 in /Users/ishirunkang/anaconda3/lib/python3.6/site-packages (from boto3) (1.17.20)\n",
      "Requirement already satisfied: jmespath<1.0.0,>=0.7.1 in /Users/ishirunkang/anaconda3/lib/python3.6/site-packages (from boto3) (0.10.0)\n",
      "Requirement already satisfied: urllib3<1.26,>=1.20; python_version != \"3.4\" in /Users/ishirunkang/anaconda3/lib/python3.6/site-packages (from botocore<1.18.0,>=1.17.20->boto3) (1.22)\n",
      "Requirement already satisfied: docutils<0.16,>=0.10 in /Users/ishirunkang/anaconda3/lib/python3.6/site-packages (from botocore<1.18.0,>=1.17.20->boto3) (0.14)\n",
      "Requirement already satisfied: python-dateutil<3.0.0,>=2.1 in /Users/ishirunkang/anaconda3/lib/python3.6/site-packages (from botocore<1.18.0,>=1.17.20->boto3) (2.8.1)\n",
      "Requirement already satisfied: six>=1.5 in /Users/ishirunkang/anaconda3/lib/python3.6/site-packages (from python-dateutil<3.0.0,>=2.1->botocore<1.18.0,>=1.17.20->boto3) (1.11.0)\n",
      "\u001b[33mWARNING: You are using pip version 19.2.3, however version 20.2.3 is available.\n",
      "You should consider upgrading via the 'pip install --upgrade pip' command.\u001b[0m\n",
      "Requirement already satisfied: s3fs in /Users/ishirunkang/anaconda3/lib/python3.6/site-packages (0.4.2)\n",
      "Requirement already satisfied: fsspec>=0.6.0 in /Users/ishirunkang/anaconda3/lib/python3.6/site-packages (from s3fs) (0.7.4)\n",
      "Requirement already satisfied: botocore>=1.12.91 in /Users/ishirunkang/anaconda3/lib/python3.6/site-packages (from s3fs) (1.17.20)\n",
      "Requirement already satisfied: python-dateutil<3.0.0,>=2.1 in /Users/ishirunkang/anaconda3/lib/python3.6/site-packages (from botocore>=1.12.91->s3fs) (2.8.1)\n",
      "Requirement already satisfied: urllib3<1.26,>=1.20; python_version != \"3.4\" in /Users/ishirunkang/anaconda3/lib/python3.6/site-packages (from botocore>=1.12.91->s3fs) (1.22)\n",
      "Requirement already satisfied: docutils<0.16,>=0.10 in /Users/ishirunkang/anaconda3/lib/python3.6/site-packages (from botocore>=1.12.91->s3fs) (0.14)\n",
      "Requirement already satisfied: jmespath<1.0.0,>=0.7.1 in /Users/ishirunkang/anaconda3/lib/python3.6/site-packages (from botocore>=1.12.91->s3fs) (0.10.0)\n",
      "Requirement already satisfied: six>=1.5 in /Users/ishirunkang/anaconda3/lib/python3.6/site-packages (from python-dateutil<3.0.0,>=2.1->botocore>=1.12.91->s3fs) (1.11.0)\n",
      "\u001b[33mWARNING: You are using pip version 19.2.3, however version 20.2.3 is available.\n",
      "You should consider upgrading via the 'pip install --upgrade pip' command.\u001b[0m\n",
      "Requirement already satisfied: pyspark in /Users/ishirunkang/anaconda3/lib/python3.6/site-packages (3.0.0)\n",
      "Requirement already satisfied: py4j==0.10.9 in /Users/ishirunkang/anaconda3/lib/python3.6/site-packages (from pyspark) (0.10.9)\n",
      "\u001b[33mWARNING: You are using pip version 19.2.3, however version 20.2.3 is available.\n",
      "You should consider upgrading via the 'pip install --upgrade pip' command.\u001b[0m\n",
      "Requirement already satisfied: cqlsh in /Users/ishirunkang/anaconda3/lib/python3.6/site-packages (5.0.4)\n",
      "Requirement already satisfied: cql in /Users/ishirunkang/anaconda3/lib/python3.6/site-packages (from cqlsh) (1.4.0)\n",
      "Requirement already satisfied: cassandra-driver in /Users/ishirunkang/anaconda3/lib/python3.6/site-packages (from cqlsh) (3.24.0)\n",
      "Requirement already satisfied: thrift in /Users/ishirunkang/anaconda3/lib/python3.6/site-packages (from cql->cqlsh) (0.13.0)\n",
      "Requirement already satisfied: six>=1.9 in /Users/ishirunkang/anaconda3/lib/python3.6/site-packages (from cassandra-driver->cqlsh) (1.11.0)\n",
      "Requirement already satisfied: geomet<0.3,>=0.1 in /Users/ishirunkang/anaconda3/lib/python3.6/site-packages (from cassandra-driver->cqlsh) (0.2.1.post1)\n",
      "Requirement already satisfied: click in /Users/ishirunkang/anaconda3/lib/python3.6/site-packages (from geomet<0.3,>=0.1->cassandra-driver->cqlsh) (6.7)\n",
      "\u001b[33mWARNING: You are using pip version 19.2.3, however version 20.2.3 is available.\n",
      "You should consider upgrading via the 'pip install --upgrade pip' command.\u001b[0m\n",
      "Requirement already satisfied: findspark in /Users/ishirunkang/anaconda3/lib/python3.6/site-packages (1.4.2)\n",
      "\u001b[33mWARNING: You are using pip version 19.2.3, however version 20.2.3 is available.\n",
      "You should consider upgrading via the 'pip install --upgrade pip' command.\u001b[0m\n",
      "Requirement already satisfied: pyarrow in /Users/ishirunkang/anaconda3/lib/python3.6/site-packages (1.0.1)\n",
      "Requirement already satisfied: numpy>=1.14 in /Users/ishirunkang/anaconda3/lib/python3.6/site-packages (from pyarrow) (1.19.1)\n",
      "\u001b[33mWARNING: You are using pip version 19.2.3, however version 20.2.3 is available.\n",
      "You should consider upgrading via the 'pip install --upgrade pip' command.\u001b[0m\n"
     ]
    }
   ],
   "source": [
    "#Before we continue, we need to install related python package.\n",
    "import sys\n",
    "\n",
    "!{sys.executable} -m pip install boto3\n",
    "!{sys.executable} -m pip install s3fs\n",
    "!{sys.executable} -m pip install pyspark\n",
    "!{sys.executable} -m pip install cqlsh\n",
    "!{sys.executable} -m pip install findspark\n",
    "!{sys.executable} -m pip install pyarrow"
   ]
  },
  {
   "cell_type": "code",
   "execution_count": 1,
   "metadata": {
    "collapsed": true
   },
   "outputs": [],
   "source": [
    "# Do all imports and installs here\n",
    "import configparser\n",
    "import pandas as pd\n",
    "import os\n",
    "import boto3\n",
    "import uuid\n",
    "from pyspark.sql import types as T\n",
    "from time import sleep"
   ]
  },
  {
   "cell_type": "code",
   "execution_count": 2,
   "metadata": {
    "collapsed": true
   },
   "outputs": [],
   "source": [
    "config = configparser.ConfigParser()\n",
    "config.read('iam.cfg')\n",
    "os.environ['AWS_ACCESS_KEY_ID']=config['AWS_CREDS']['AWS_ACCESS_KEY_ID']\n",
    "os.environ['AWS_SECRET_ACCESS_KEY']=config['AWS_CREDS']['AWS_SECRET_ACCESS_KEY']\n",
    "\n",
    "client=boto3.client('s3')\n",
    "\n",
    "\n",
    "# Set spark environments\n",
    "os.environ['PYSPARK_PYTHON'] = '/usr/local/bin/python3'\n",
    "os.environ['PYSPARK_DRIVER_PYTHON'] = '/usr/local/bin/python3'"
   ]
  },
  {
   "cell_type": "markdown",
   "metadata": {},
   "source": [
    "### Scope the Project and Gather Data\n",
    "\n",
    "#### Project description:\n",
    "\n",
    "This project will be separate to multiple parts, and all four dataset will be used. \n",
    "\n",
    "Before we talk about the details, we need to know the characteristics of relational DB and non-relational DB.\n",
    "\n",
    "For relational DB, its characteristics is low redundancy and high completeness, which means it is very suitable for small or medium size data, and the database does not change so much. In our case, we should store temperature, airport code and US cities demographic data into a relational database that meets 3NF because it does not always change so much and the volume of data is not that large.\n",
    "\n",
    "The final solution will work as a a database management system. When user input the time or time period and the column they interested in (e.g., visa type), the system will return related data as a dataframe. For example, a user needs to know where are the busiest airport for investment visa holder(E-1 visa) in 2016 and its basic information such as temperature, and the status of the city such as population(age, majority race, etc.), or when is the peak-time for international student come to the United States and where are they come from.\n",
    "\n",
    "* Data will be imported from Amazon S3\n",
    "* Relational DB will be implement on AWS Redshift\n",
    "* Non-Relationalship DB will be implement on Amazon Keyspace, and data backup will be stored at S3 as parquet format.\n",
    "* Data cleaning and ETL process will be implement on Amazon EMR with Spark\n",
    "\n",
    "#### The dataset is going to use in this project are:\n",
    "\n",
    "* I94 Immigration Data: This data comes from the US National Tourism and Trade Office. A data dictionary is included in the workspace. https://travel.trade.gov/research/reports/i94/historical/2016.html is where the data comes from. There's a sample file so you can take a look at the data in csv format before reading it all in. You do not have to use the entire dataset, just use what you need to accomplish the goal you set at the beginning of the project.\n",
    "* World Temperature Data: This dataset came from Kaggle. You can read more about it here: https://www.kaggle.com/berkeleyearth/climate-change-earth-surface-temperature-data.\n",
    "* U.S. City Demographic Data: This data comes from OpenSoft. You can read more about it here: https://public.opendatasoft.com/explore/dataset/us-cities-demographics/export/.\n",
    "* Airport Code Table: This is a simple table of airport codes and corresponding cities. It comes from here:https://datahub.io/core/airport-codes#data."
   ]
  },
  {
   "cell_type": "code",
   "execution_count": 3,
   "metadata": {},
   "outputs": [],
   "source": [
    "import pyspark\n",
    "from pyspark.sql import SparkSession\n",
    "from pyspark.sql.functions import udf\n",
    "from pyspark.sql import SQLContext\n",
    "from pyspark.sql import types as T\n",
    "from pyspark.sql.types import *\n",
    "from pyspark import SparkContext\n",
    "\n",
    "spark = SparkSession.builder.\\\n",
    "config(\"spark.jars.packages\",\"saurfang:spark-sas7bdat:2.0.0-s_2.11\")\\\n",
    ".config(\"spark.hadoop.fs.s3a.impl\",\"org.apache.hadoop.fs.s3a.S3AFileSystem\") \\\n",
    ".config(\"spark.driver.memory\", \"15g\")\\\n",
    ".enableHiveSupport().getOrCreate()\n",
    "spark.conf.set(\"spark.sql.execution.arrow.enabled\", \"true\")"
   ]
  },
  {
   "cell_type": "code",
   "execution_count": 4,
   "metadata": {},
   "outputs": [],
   "source": [
    "i94 = pd.read_sas('i94_jan16_sub.sas7bdat', 'sas7bdat',encoding=\"ISO-8859-1\").drop_duplicates()\n",
    "i94['id_'] = pd.Series([str(uuid.uuid1()) for each in range(len(i94))])\n",
    "i94['arrival_date'] = pd.to_timedelta(i94['arrdate'],unit='D') + pd.Timestamp('1960-1-1')\n",
    "i94=spark.createDataFrame(i94)"
   ]
  },
  {
   "cell_type": "code",
   "execution_count": 5,
   "metadata": {},
   "outputs": [],
   "source": [
    "def mapping_processor(names):\n",
    "    origin=open('mappings/{}.txt'.format(names),'r')\n",
    "    code=[]\n",
    "    name=[]\n",
    "    for each in origin:\n",
    "        line=\" \".join(each.split())\n",
    "        try:\n",
    "            code.append(int(line[:line.index('=')]))\n",
    "        except:\n",
    "            code.append(line[1:line.index('=')-1])\n",
    "        name.append(line[line.index('=')+2:-1])\n",
    "    origin.close()\n",
    "    col_code=names+'_code'\n",
    "    col_name=names+'_name'\n",
    "    df=pd.DataFrame(list(zip(code,name)),columns=[col_code,col_name])\n",
    "    df=spark.createDataFrame(df)\n",
    "    return df"
   ]
  },
  {
   "cell_type": "code",
   "execution_count": 9,
   "metadata": {
    "collapsed": true
   },
   "outputs": [],
   "source": [
    "country=mapping_processor('country')\n",
    "mode=mapping_processor('mode')\n",
    "port=mapping_processor('port')\n",
    "us_states=mapping_processor('us_states')\n",
    "visacode=mapping_processor('visacode')\n",
    "\n",
    "country.createOrReplaceTempView('country')\n",
    "mode.createOrReplaceTempView('mode')\n",
    "port.createOrReplaceTempView('port')\n",
    "us_states.createOrReplaceTempView('us_states')\n",
    "visacode.createOrReplaceTempView('visacode')\n",
    "i94.createOrReplaceTempView('i94')"
   ]
  },
  {
   "cell_type": "code",
   "execution_count": 10,
   "metadata": {},
   "outputs": [],
   "source": [
    "sql=\"\"\"SELECT i94yr AS year,\n",
    "              i94mon AS month,\n",
    "              i94cit AS citizenship,\n",
    "              i94res AS resident,\n",
    "              i94port AS port,\n",
    "              arrival_date,\n",
    "              i94mode AS mode,\n",
    "              i94addr AS us_state,\n",
    "              depdate AS depart_date,\n",
    "              i94bir AS age,\n",
    "              i94visa visa_category,\n",
    "              dtadfile AS date_added,\n",
    "              visapost AS visa_issued_by,\n",
    "              occup AS occupation,\n",
    "              entdepa AS arrival_flag,\n",
    "              entdepd AS depart_flag,\n",
    "              entdepu AS update_flag,\n",
    "              matflag AS match_arrival_depart_flag,\n",
    "              biryear AS birth_year,\n",
    "              dtaddto AS allowed_date,\n",
    "              gender,\n",
    "              insnum AS ins_number,\n",
    "              airline,\n",
    "              admnum AS admission_number,\n",
    "              fltno AS flight_no,\n",
    "              visatype,\n",
    "              id_\n",
    "              FROM i94;\n",
    "       \"\"\"\n",
    "temp=spark.sql(sql)"
   ]
  },
  {
   "cell_type": "markdown",
   "metadata": {},
   "source": [
    "### Step 2: Explore and Assess the Data\n",
    "#### Explore the Data \n",
    "Identify data quality issues, like missing values, duplicate data, etc.\n",
    "\n",
    "#### Cleaning Steps\n",
    "Document steps necessary to clean the data"
   ]
  },
  {
   "cell_type": "code",
   "execution_count": 12,
   "metadata": {
    "collapsed": true
   },
   "outputs": [],
   "source": [
    "global_land_temperature_url = 's3://srk-data-eng-capstone/GlobalLandTemperaturesByCity.csv'\n",
    "airport_codes_url = 's3://srk-data-eng-capstone/airport-codes_csv.csv'\n",
    "us_city_demographics_url = 's3://srk-data-eng-capstone/us-cities-demographics.csv'"
   ]
  },
  {
   "cell_type": "code",
   "execution_count": 51,
   "metadata": {},
   "outputs": [],
   "source": [
    "#Global land temperature view preparation\n",
    "global_land_temperature = pd.read_csv(global_land_temperature_url)\n",
    "global_land_temperature['id_'] = pd.Series([str(uuid.uuid1()) for each in range(len(global_land_temperature))])\n",
    "global_land_temperature = spark.createDataFrame(global_land_temperature)\n",
    "global_land_temperature.createOrReplaceTempView('temperature')\n",
    "sql=\"\"\"SELECT id_, dt, AverageTemperature AS avg_temperature, \n",
    "              AverageTemperatureUncertainty AS avg_temperature_uncertainty,\n",
    "              city, latitude, longitude\n",
    "       FROM temperature\n",
    "       WHERE Country = 'United States'\n",
    "       AND dt >= '2012-01-01'\n",
    "       AND dt <= '2012-12-01'\"\"\"\n",
    "glt_df=spark.sql(sql)\n"
   ]
  },
  {
   "cell_type": "code",
   "execution_count": 52,
   "metadata": {},
   "outputs": [
    {
     "name": "stdout",
     "output_type": "stream",
     "text": [
      "+--------------------+----------+--------------------+---------------------------+-------+--------+---------+\n",
      "|                 id_|        dt|     avg_temperature|avg_temperature_uncertainty|   city|latitude|longitude|\n",
      "+--------------------+----------+--------------------+---------------------------+-------+--------+---------+\n",
      "|2a340a2e-f460-11e...|2012-01-01|               7.996|                      0.204|Abilene|  32.95N|  100.53W|\n",
      "|2a340a58-f460-11e...|2012-02-01|               8.434|                      0.252|Abilene|  32.95N|  100.53W|\n",
      "|2a340a88-f460-11e...|2012-03-01|              15.628|                      0.173|Abilene|  32.95N|  100.53W|\n",
      "|2a340ab0-f460-11e...|2012-04-01|  21.069000000000006|                      0.388|Abilene|  32.95N|  100.53W|\n",
      "|2a340ae2-f460-11e...|2012-05-01|              24.698|        0.32299999999999995|Abilene|  32.95N|  100.53W|\n",
      "|2a340b0a-f460-11e...|2012-06-01|              28.217|                      0.126|Abilene|  32.95N|  100.53W|\n",
      "|2a340b3a-f460-11e...|2012-07-01|              29.581|        0.28800000000000003|Abilene|  32.95N|  100.53W|\n",
      "|2a340b64-f460-11e...|2012-08-01|   29.10400000000001|                      0.322|Abilene|  32.95N|  100.53W|\n",
      "|2a340b98-f460-11e...|2012-09-01|              24.333|                      0.313|Abilene|  32.95N|  100.53W|\n",
      "|2a340bd2-f460-11e...|2012-10-01|              16.702|                      0.264|Abilene|  32.95N|  100.53W|\n",
      "|2a340c06-f460-11e...|2012-11-01|              13.892|        0.28600000000000003|Abilene|  32.95N|  100.53W|\n",
      "|2a340c2c-f460-11e...|2012-12-01|  7.9510000000000005|        0.28600000000000003|Abilene|  32.95N|  100.53W|\n",
      "|2a6f7014-f460-11e...|2012-01-01|-0.34399999999999986|                       0.41|  Akron|  40.99N|   80.95W|\n",
      "|2a6f703a-f460-11e...|2012-02-01|  1.5269999999999997|                      0.319|  Akron|  40.99N|   80.95W|\n",
      "|2a6f7064-f460-11e...|2012-03-01|              10.109|                      0.442|  Akron|  40.99N|   80.95W|\n",
      "|2a6f7082-f460-11e...|2012-04-01|               9.195|                      0.412|  Akron|  40.99N|   80.95W|\n",
      "|2a6f70a8-f460-11e...|2012-05-01|              18.921|                      0.322|  Akron|  40.99N|   80.95W|\n",
      "|2a6f70e6-f460-11e...|2012-06-01|              21.108|                      0.298|  Akron|  40.99N|   80.95W|\n",
      "|2a6f710c-f460-11e...|2012-07-01|              24.966|                      0.401|  Akron|  40.99N|   80.95W|\n",
      "|2a6f7136-f460-11e...|2012-08-01|               21.94|                      0.328|  Akron|  40.99N|   80.95W|\n",
      "+--------------------+----------+--------------------+---------------------------+-------+--------+---------+\n",
      "only showing top 20 rows\n",
      "\n"
     ]
    }
   ],
   "source": [
    "glt_df.show()"
   ]
  },
  {
   "cell_type": "code",
   "execution_count": 32,
   "metadata": {},
   "outputs": [],
   "source": [
    "airport_codes = pd.read_csv(airport_codes_url)\n",
    "airport_codes = spark.createDataFrame(airport_codes)\n",
    "airport_codes.createOrReplaceTempView('airports')\n",
    "sql = \"\"\"SELECT ident, type, name, elevation_ft, continent, \n",
    "                iso_country, iso_region, municipality, gps_code, iata_code AS airport_code, coordinates\n",
    "         FROM airports WHERE iata_code IS NOT NULL\n",
    "         UNION\n",
    "         SELECT ident, type, name, elevation_ft, continent,\n",
    "                iso_country, iso_region, municipality, gps_code, local_code AS airport_code, coordinates\n",
    "         FROM airports WHERE local_code IS NOT NULL\"\"\"\n",
    "airports = spark.sql(sql)"
   ]
  },
  {
   "cell_type": "code",
   "execution_count": 38,
   "metadata": {},
   "outputs": [
    {
     "name": "stdout",
     "output_type": "stream",
     "text": [
      "+-------+--------------+--------------------+------------+---------+-----------+----------+-------------+--------+------------+--------------------+\n",
      "|  ident|          type|                name|elevation_ft|continent|iso_country|iso_region| municipality|gps_code|airport_code|         coordinates|\n",
      "+-------+--------------+--------------------+------------+---------+-----------+----------+-------------+--------+------------+--------------------+\n",
      "|   AYYE| small_airport|     Yalumet Airport|      2600.0|       OC|         PG|    PG-MPL|      Yalumet|    AYYE|         KYX|     147.0117, -6.09|\n",
      "|   BIBD| small_airport|  Bildudalur Airport|        18.0|       EU|         IS|      IS-4|   Bildudalur|    BIBD|         BIU|-23.5461997985839...|\n",
      "| BZ-BGK|medium_airport|   Big Creek Airport|         3.0|     null|         BZ|     BZ-SC|    Big Creek|    null|         BGK|-88.4079132080078...|\n",
      "|   CAG3| small_airport|Chilko Lake (Tsyl...|      3850.0|     null|         CA|     CA-BC|  Chilko Lake|    CAG3|         CJH|-124.141998291, 5...|\n",
      "|CN-0024|medium_airport|Zhangjiakou Ningy...|      2347.0|       AS|         CN|     CN-13|  Zhangjiakou|    ZBZJ|         ZQZ|114.930000305, 40...|\n",
      "|CN-0051| small_airport|      Zigong Airport|      1133.0|       AS|         CN|     CN-51|       Zigong|    null|         ZKL|104.625789, 29.37...|\n",
      "|   CYMX|medium_airport|Montreal Internat...|       270.0|     null|         CA|     CA-QC|    MontrÃ©al|    CYMX|         YMX|-74.038696, 45.67...|\n",
      "|   CYNH| small_airport|Hudsons Hope Airport|      2220.0|     null|         CA|     CA-BC|Hudson's Hope|    CYNH|         YNH|-121.975997925, 5...|\n",
      "|   CYTS|medium_airport|Timmins/Victor M....|       967.0|     null|         CA|     CA-ON|      Timmins|    CYTS|         YTS|-81.376701355, 48...|\n",
      "|   CYVL| small_airport|Tommy Kochon Airport|       870.0|     null|         CA|     CA-NT|Colville Lake|    CYVL|         YCK|     -126.126, 67.02|\n",
      "|   CZFD|medium_airport| Fond-Du-Lac Airport|       814.0|     null|         CA|     CA-SK|  Fond-Du-Lac|    CZFD|         ZFD|-107.181999206542...|\n",
      "|   EFKA|medium_airport|     Kauhava Airport|       151.0|       EU|         FI|     FI-LS|      Kauhava|    EFKA|         KAU|23.051399, 63.127102|\n",
      "|   EGPC|medium_airport|        Wick Airport|       126.0|       EU|         GB|    GB-SCT|         Wick|    EGPC|         WIC|-3.09306001663208...|\n",
      "|   EGUB|medium_airport|          RAF Benson|       226.0|       EU|         GB|    GB-ENG|       Benson|    EGUB|         BEX|-1.09582996368, 5...|\n",
      "|    EWY|        closed| RAF Greenham Common|       400.0|       EU|         GB|    GB-ENG|    Berkshire|    EGVI|         EWY|      -1.281, 51.379|\n",
      "|   FAMO| small_airport|  Mossel Bay Airport|       531.0|       AF|         ZA|     ZA-WC|   Mossel Bay|    FAMO|         MZY|22.058599, -34.15...|\n",
      "|   FCOT| small_airport|       Betou Airport|      1168.0|       AF|         CG|      CG-7|        Betou|    FCOT|         BTB|18.5, 3.049999952...|\n",
      "|   FNXA|medium_airport|    Xangongo Airport|      3635.0|       AF|         AO|    AO-CNN|     Xangongo|    FNXA|         XGN|14.96529960632324...|\n",
      "|   HUEN| large_airport|Entebbe Internati...|      3782.0|       AF|         UG|    UG-102|      Kampala|    HUEN|         EBB| 32.443501, 0.042386|\n",
      "|   KBVO| small_airport|Bartlesville Muni...|       711.0|     null|         US|     US-OK| Bartlesville|    KBVO|         BVO|-96.01119995, 36....|\n",
      "+-------+--------------+--------------------+------------+---------+-----------+----------+-------------+--------+------------+--------------------+\n",
      "only showing top 20 rows\n",
      "\n"
     ]
    }
   ],
   "source": [
    "airports.show()"
   ]
  },
  {
   "cell_type": "code",
   "execution_count": 40,
   "metadata": {},
   "outputs": [],
   "source": [
    "us_city_demographics=pd.read_csv(us_city_demographics_url, sep=';')\n",
    "us_city_demographics['id_'] = pd.Series([str(uuid.uuid1()) for each in range(len(us_city_demographics))])\n",
    "us_city_demographics=spark.createDataFrame(us_city_demographics)\n",
    "us_city_demographics.createOrReplaceTempView('us_cities')"
   ]
  },
  {
   "cell_type": "code",
   "execution_count": 50,
   "metadata": {},
   "outputs": [
    {
     "name": "stdout",
     "output_type": "stream",
     "text": [
      "+--------------------+----------------+----------+---------------+-----------------+----------+------------+------------+------------------+----------+--------------------+------+\n",
      "|                 id_|            city|median_age|male_population|female_population|population|num_veterans|foreign_born|avg_household_size|state_code|                race| count|\n",
      "+--------------------+----------------+----------+---------------+-----------------+----------+------------+------------+------------------+----------+--------------------+------+\n",
      "|9a57f69e-f45e-11e...|   Silver Spring|      33.8|        40601.0|          41862.0|     82463|      1562.0|     30908.0|               2.6|        MD|  Hispanic or Latino| 25924|\n",
      "|9a57f774-f45e-11e...|          Quincy|      41.0|        44129.0|          49500.0|     93629|      4147.0|     32935.0|              2.39|        MA|               White| 58723|\n",
      "|9a57f7b8-f45e-11e...|          Hoover|      38.5|        38040.0|          46799.0|     84839|      4819.0|      8229.0|              2.58|        AL|               Asian|  4759|\n",
      "|9a57f7e8-f45e-11e...|Rancho Cucamonga|      34.5|        88127.0|          87105.0|    175232|      5821.0|     33878.0|              3.18|        CA|Black or African-...| 24437|\n",
      "|9a57f812-f45e-11e...|          Newark|      34.6|       138040.0|         143873.0|    281913|      5829.0|     86253.0|              2.73|        NJ|               White| 76402|\n",
      "|9a57f846-f45e-11e...|          Peoria|      33.1|        56229.0|          62432.0|    118661|      6634.0|      7517.0|               2.4|        IL|American Indian a...|  1343|\n",
      "|9a57f86c-f45e-11e...|        Avondale|      29.1|        38712.0|          41971.0|     80683|      4815.0|      8355.0|              3.18|        AZ|Black or African-...| 11592|\n",
      "|9a57f89e-f45e-11e...|     West Covina|      39.8|        51629.0|          56860.0|    108489|      3800.0|     37038.0|              3.56|        CA|               Asian| 32716|\n",
      "|9a57f8c6-f45e-11e...|        O'Fallon|      36.0|        41762.0|          43270.0|     85032|      5783.0|      3269.0|              2.77|        MO|  Hispanic or Latino|  2583|\n",
      "|9a57f8ee-f45e-11e...|      High Point|      35.5|        51751.0|          58077.0|    109828|      5204.0|     16315.0|              2.65|        NC|               Asian| 11060|\n",
      "|9a57f918-f45e-11e...|          Folsom|      40.9|        41051.0|          35317.0|     76368|      4187.0|     13234.0|              2.62|        CA|  Hispanic or Latino|  5822|\n",
      "|9a57f93e-f45e-11e...|          Folsom|      40.9|        41051.0|          35317.0|     76368|      4187.0|     13234.0|              2.62|        CA|American Indian a...|   998|\n",
      "|9a57f966-f45e-11e...|    Philadelphia|      34.1|       741270.0|         826172.0|   1567442|     61995.0|    205339.0|              2.61|        PA|               Asian|122721|\n",
      "|9a57f98c-f45e-11e...|         Wichita|      34.6|       192354.0|         197601.0|    389955|     23978.0|     40270.0|              2.56|        KS|  Hispanic or Latino| 65162|\n",
      "|9a57f9c0-f45e-11e...|         Wichita|      34.6|       192354.0|         197601.0|    389955|     23978.0|     40270.0|              2.56|        KS|American Indian a...|  8791|\n",
      "|9a57f9e8-f45e-11e...|      Fort Myers|      37.3|        36850.0|          37165.0|     74015|      4312.0|     15365.0|              2.45|        FL|               White| 50169|\n",
      "|9a57fa10-f45e-11e...|      Pittsburgh|      32.9|       149690.0|         154695.0|    304385|     17728.0|     28187.0|              2.13|        PA|               White|208863|\n",
      "|9a57fa38-f45e-11e...|          Laredo|      28.8|       124305.0|         131484.0|    255789|      4921.0|     68427.0|              3.66|        TX|American Indian a...|  1253|\n",
      "|9a57fa62-f45e-11e...|        Berkeley|      32.5|        60142.0|          60829.0|    120971|      3736.0|     25000.0|              2.35|        CA|               Asian| 27089|\n",
      "|9a57fa92-f45e-11e...|     Santa Clara|      35.2|        63278.0|          62938.0|    126216|      4426.0|     52281.0|              2.75|        CA|               White| 55847|\n",
      "+--------------------+----------------+----------+---------------+-----------------+----------+------------+------------+------------------+----------+--------------------+------+\n",
      "only showing top 20 rows\n",
      "\n"
     ]
    }
   ],
   "source": [
    "sql=\"\"\"SELECT id_, city, `Median Age` AS median_age, `Male Population` AS male_population,\n",
    "              `Female Population` AS female_population, `Total Population` AS population,\n",
    "              `Number of Veterans` AS num_veterans, `Foreign-born` AS foreign_born, `Average Household Size` AS avg_household_size,\n",
    "              `State Code` AS state_code, race, count\n",
    "       FROM us_cities\"\"\"\n",
    "us_cities = spark.sql(sql)\n",
    "us_cities.show()"
   ]
  },
  {
   "cell_type": "code",
   "execution_count": 53,
   "metadata": {
    "collapsed": true
   },
   "outputs": [],
   "source": [
    "#Tmorrow we start from here.\n",
    "#Connect each tables above, and modify if needed."
   ]
  },
  {
   "cell_type": "markdown",
   "metadata": {},
   "source": [
    "### Step 3: Define the Data Model\n",
    "#### 3.1 Conceptual Data Model\n",
    "Map out the conceptual data model and explain why you chose that model\n",
    "\n",
    "#### 3.2 Mapping Out Data Pipelines\n",
    "List the steps necessary to pipeline the data into the chosen data model"
   ]
  },
  {
   "cell_type": "markdown",
   "metadata": {},
   "source": [
    "### Step 4: Run Pipelines to Model the Data \n",
    "#### 4.1 Create the data model\n",
    "Build the data pipelines to create the data model."
   ]
  },
  {
   "cell_type": "code",
   "execution_count": null,
   "metadata": {
    "collapsed": true
   },
   "outputs": [],
   "source": [
    "# Write code here"
   ]
  },
  {
   "cell_type": "markdown",
   "metadata": {},
   "source": [
    "#### 4.2 Data Quality Checks\n",
    "Explain the data quality checks you'll perform to ensure the pipeline ran as expected. These could include:\n",
    " * Integrity constraints on the relational database (e.g., unique key, data type, etc.)\n",
    " * Unit tests for the scripts to ensure they are doing the right thing\n",
    " * Source/Count checks to ensure completeness\n",
    " \n",
    "Run Quality Checks"
   ]
  },
  {
   "cell_type": "code",
   "execution_count": null,
   "metadata": {
    "collapsed": true
   },
   "outputs": [],
   "source": [
    "# Perform quality checks here"
   ]
  },
  {
   "cell_type": "markdown",
   "metadata": {},
   "source": [
    "#### 4.3 Data dictionary \n",
    "Create a data dictionary for your data model. For each field, provide a brief description of what the data is and where it came from. You can include the data dictionary in the notebook or in a separate file."
   ]
  },
  {
   "cell_type": "markdown",
   "metadata": {},
   "source": [
    "#### Step 5: Complete Project Write Up\n",
    "* Clearly state the rationale for the choice of tools and technologies for the project.\n",
    "* Propose how often the data should be updated and why.\n",
    "* Write a description of how you would approach the problem differently under the following scenarios:\n",
    " * The data was increased by 100x.\n",
    " * The data populates a dashboard that must be updated on a daily basis by 7am every day.\n",
    " * The database needed to be accessed by 100+ people."
   ]
  },
  {
   "cell_type": "code",
   "execution_count": null,
   "metadata": {
    "collapsed": true
   },
   "outputs": [],
   "source": []
  },
  {
   "cell_type": "code",
   "execution_count": null,
   "metadata": {
    "collapsed": true
   },
   "outputs": [],
   "source": []
  },
  {
   "cell_type": "markdown",
   "metadata": {},
   "source": [
    "The data populates a dashboard that must be updated on a daily basis by 7am every day.\n",
    "\n",
    "In this situation, after 7am, we can import data into a NoSQL database like below:"
   ]
  },
  {
   "cell_type": "code",
   "execution_count": null,
   "metadata": {
    "collapsed": true
   },
   "outputs": [],
   "source": [
    "from cassandra.cluster import Cluster\n",
    "from ssl import SSLContext, PROTOCOL_TLSv1, CERT_REQUIRED\n",
    "from cassandra.auth import PlainTextAuthProvider\n",
    "from cassandra import ConsistencyLevel\n",
    "\n",
    "ssl_context = SSLContext(PROTOCOL_TLSv1)\n",
    "ssl_context.load_verify_locations('AmazonRootCA1.pem')\n",
    "ssl_context.verify_mode = CERT_REQUIRED\n",
    "auth_provider = PlainTextAuthProvider(username=str(config['APACHE_CASSANDRA_CREDS']['CASSANDRA_USERNAME']), password=str(config['APACHE_CASSANDRA_CREDS']['CASSANDRA_PASSWORD']))\n",
    "cluster = Cluster(['cassandra.eu-west-1.amazonaws.com'], ssl_context=ssl_context, auth_provider=auth_provider, port=9142)\n",
    "print('Patient...')\n",
    "session = cluster.connect()\n",
    "\n",
    "create_keyspace=\"\"\"CREATE KEYSPACE IF NOT EXISTS \"i94\"\n",
    "                   WITH REPLICATION={'class':'SingleRegionStrategy'}\"\"\"\n",
    "session.execute(create_keyspace)\n",
    "sleep(10)\n",
    "\n",
    "create_table=\"\"\"CREATE TABLE IF NOT EXISTS \"i94\".i94 (\n",
    "                                                      year DOUBLE,\n",
    "                                                      month DOUBLE,\n",
    "                                                      birth_country DOUBLE,\n",
    "                                                      resident_country DOUBLE,\n",
    "                                                      port TEXT,\n",
    "                                                      arrive_date DOUBLE,\n",
    "                                                      mode DOUBLE,\n",
    "                                                      state_code TEXT,\n",
    "                                                      departure_date DOUBLE,\n",
    "                                                      age DOUBLE,\n",
    "                                                      visa DOUBLE,\n",
    "                                                      date_to_db DOUBLE,\n",
    "                                                      visa_issued_dep TEXT,\n",
    "                                                      occupation TEXT,\n",
    "                                                      arrival_flag TEXT,\n",
    "                                                      depart_flag TEXT,\n",
    "                                                      update_flag TEXT,\n",
    "                                                      match_arrival_depart TEXT,\n",
    "                                                      birthyear DOUBLE,\n",
    "                                                      allowed_date TEXT,\n",
    "                                                      gender TEXT,\n",
    "                                                      ins_num TEXT,\n",
    "                                                      airline TEXT,\n",
    "                                                      admission_number DOUBLE,\n",
    "                                                      flight_no TEXT,\n",
    "                                                      visatype TEXT,\n",
    "                                                      id_ TEXT,\n",
    "                                                      PRIMARY KEY(id_)\n",
    "                ) \"\"\"\n",
    "session.execute(create_table)\n",
    "sleep(10)\n",
    "print('Table well-prepared. you can input data from dataset.')"
   ]
  },
  {
   "cell_type": "markdown",
   "metadata": {},
   "source": [
    "For non-relational DB, its characteristics is higher elasticity, faster read & write speed and evoving data volume. In our case, we should save I94 data into non-relational DB. Because this piece of data need to make ETL process almost every minutes in real world background, and it need dynamic write and read for real-time data monitoring. "
   ]
  },
  {
   "cell_type": "code",
   "execution_count": null,
   "metadata": {
    "collapsed": true
   },
   "outputs": [],
   "source": [
    "original_sql=\"\"\"INSERT INTO \"i94\".i94 (\"cicid\",\"i94yr\",\"i94mon\",\"i94cit\",\"i94res\",\"i94port\",\"arrdate\",\"i94mode\",\"i94addr\",\"depdate\",\n",
    "                              \"i94bir\",\"i94visa\",\"count\",\"dtadfile\",\"visapost\",\"occup\",\"entdepa\",\"entdepd\",\"entdepu\",\"matflag\",\n",
    "                              \"biryear\",\"dtaddto\",\"gender\",\"insnum\",\"airline\",\"admnum\",\"fltno\",\"visatype\",\"id_\")\n",
    "                              VALUES ({0},{1},{2},{3},{4},'{5}',{6},{7},'{8}',{9},\n",
    "                                      {10},{11},{12},{13},'{14}','{15}','{16}','{17}','{18}','{19}',\n",
    "                                      {20},'{21}','{22}','{23}','{24}',{25},'{26}','{27}','{28}')\"\"\"\n",
    "\n",
    "lists=[888,1991,10,999,666,'port_test',9527,777,'addr_test',10,10,10,10,10,\"visapost\",'occup','entdepa','entdepd',\n",
    "      'entdepu','mat',1984,'dtaddto','M','insnumber','AerLingus',29,'filtnumber','H1B']\n",
    "sql=original_sql.format(lists[0],lists[1],lists[2],lists[3],lists[4],lists[5],lists[6],lists[7],lists[8],lists[9],\n",
    "                       lists[10],lists[11],lists[12],lists[13],lists[14],lists[15],lists[16],lists[17],lists[18],lists[19],\n",
    "                       lists[20],lists[21],lists[22],lists[23],lists[24],lists[25],lists[26],lists[27],uuid.uuid1())\n",
    "sql=session.prepare(sql)\n",
    "sql.consistency_level = ConsistencyLevel.LOCAL_QUORUM\n",
    "session.execute(sql)\n",
    "\n",
    "# This part is going to be used in transcript.\n",
    "\n",
    "# while True:\n",
    "#     values=input(\"Insert data. Split values by comma. If data is empty, just input comma. Enter Q for quit.\")\n",
    "#     lists=values.split(',')\n",
    "#     if len(values) < 28:\n",
    "#         print('Did you lose something?')\n",
    "#         continue\n",
    "#     elif values.lower() == 'Q':\n",
    "#         print('Quit.')\n",
    "#         break\n",
    "#     else:\n",
    "#         sql=session.format(sql)\n",
    "#         sql.consistency_level = ConsistencyLevel.LOCAL_QUORUM\n",
    "#         session.execute(sql.format(lists[0],lists[1],lists[2],lists[3],lists[4],lists[5],lists[6],lists[7],lists[8],lists[9],\n",
    "#                       lists[10],lists[11],lists[12],lists[13],lists[14],lists[15],lists[16],lists[17],lists[18],lists[19],\n",
    "#                       lists[20],lists[21],lists[22],lists[23],lists[24],lists[25],lists[26],lists[27],uuid.uuid1()))\n",
    "#         next_one=input('Done. Do you wish to continue?Y/N')\n",
    "#         if next_one.lower() == 'y':\n",
    "#             continue\n",
    "#         else:\n",
    "#             print('Thanks. Quit.')\n",
    "#             break\n",
    "\n",
    "\n",
    "temp = session.execute('SELECT * FROM i94.i94')\n",
    "df = pd.DataFrame(temp, columns=['id_','admnum','airline','arrdate','biryear','cicid','count','depdate','dtadtto','dtadfile','entdepa','entdepd','entdepu','fltno','gender','i94addr','i94bir','i94cit','i94mode','i94mon','i94port','i94res','i94visa','i94yr','insnum','matflag','occup','visapost','visatype'])\n",
    "df.to_parquet('dashboard.parquet.gzip',compression='gzip')"
   ]
  },
  {
   "cell_type": "markdown",
   "metadata": {},
   "source": [
    "And we run the script above at 7AM everyday to create"
   ]
  },
  {
   "cell_type": "code",
   "execution_count": null,
   "metadata": {
    "collapsed": true
   },
   "outputs": [],
   "source": []
  },
  {
   "cell_type": "code",
   "execution_count": null,
   "metadata": {
    "collapsed": true
   },
   "outputs": [],
   "source": []
  }
 ],
 "metadata": {
  "kernelspec": {
   "display_name": "Python 3",
   "language": "python",
   "name": "python3"
  },
  "language_info": {
   "codemirror_mode": {
    "name": "ipython",
    "version": 3
   },
   "file_extension": ".py",
   "mimetype": "text/x-python",
   "name": "python",
   "nbconvert_exporter": "python",
   "pygments_lexer": "ipython3",
   "version": "3.6.8"
  }
 },
 "nbformat": 4,
 "nbformat_minor": 2
}
