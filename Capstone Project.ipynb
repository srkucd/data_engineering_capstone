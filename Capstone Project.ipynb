{
 "cells": [
  {
   "cell_type": "markdown",
   "metadata": {},
   "source": [
    "# Project Title\n",
    "### Data Engineering Capstone Project\n",
    "\n",
    "#### Project Summary\n",
    "--describe your project at a high level--\n",
    "\n",
    "The project follows the follow steps:\n",
    "* Step 0: Preparation and import data from s3\n",
    "* Step 1: Scope the Project and Gather Data\n",
    "* Step 2: Explore and Assess the Data\n",
    "* Step 3: Define the Data Model\n",
    "* Step 4: Run ETL to Model the Data\n",
    "* Step 5: Complete Project Write Up"
   ]
  },
  {
   "cell_type": "code",
   "execution_count": 5,
   "metadata": {},
   "outputs": [
    {
     "name": "stdout",
     "output_type": "stream",
     "text": [
      "Requirement already satisfied: boto3 in /Users/ishirunkang/anaconda3/lib/python3.6/site-packages (1.14.20)\n",
      "Requirement already satisfied: s3transfer<0.4.0,>=0.3.0 in /Users/ishirunkang/anaconda3/lib/python3.6/site-packages (from boto3) (0.3.3)\n",
      "Requirement already satisfied: botocore<1.18.0,>=1.17.20 in /Users/ishirunkang/anaconda3/lib/python3.6/site-packages (from boto3) (1.17.20)\n",
      "Requirement already satisfied: jmespath<1.0.0,>=0.7.1 in /Users/ishirunkang/anaconda3/lib/python3.6/site-packages (from boto3) (0.10.0)\n",
      "Requirement already satisfied: python-dateutil<3.0.0,>=2.1 in /Users/ishirunkang/anaconda3/lib/python3.6/site-packages (from botocore<1.18.0,>=1.17.20->boto3) (2.6.1)\n",
      "Requirement already satisfied: docutils<0.16,>=0.10 in /Users/ishirunkang/anaconda3/lib/python3.6/site-packages (from botocore<1.18.0,>=1.17.20->boto3) (0.14)\n",
      "Requirement already satisfied: urllib3<1.26,>=1.20; python_version != \"3.4\" in /Users/ishirunkang/anaconda3/lib/python3.6/site-packages (from botocore<1.18.0,>=1.17.20->boto3) (1.22)\n",
      "Requirement already satisfied: six>=1.5 in /Users/ishirunkang/anaconda3/lib/python3.6/site-packages (from python-dateutil<3.0.0,>=2.1->botocore<1.18.0,>=1.17.20->boto3) (1.11.0)\n",
      "\u001b[33mWARNING: You are using pip version 19.2.3, however version 20.1.1 is available.\n",
      "You should consider upgrading via the 'pip install --upgrade pip' command.\u001b[0m\n",
      "Requirement already satisfied: s3fs in /Users/ishirunkang/anaconda3/lib/python3.6/site-packages (0.4.2)\n",
      "Requirement already satisfied: fsspec>=0.6.0 in /Users/ishirunkang/anaconda3/lib/python3.6/site-packages (from s3fs) (0.7.4)\n",
      "Requirement already satisfied: botocore>=1.12.91 in /Users/ishirunkang/anaconda3/lib/python3.6/site-packages (from s3fs) (1.17.20)\n",
      "Requirement already satisfied: docutils<0.16,>=0.10 in /Users/ishirunkang/anaconda3/lib/python3.6/site-packages (from botocore>=1.12.91->s3fs) (0.14)\n",
      "Requirement already satisfied: jmespath<1.0.0,>=0.7.1 in /Users/ishirunkang/anaconda3/lib/python3.6/site-packages (from botocore>=1.12.91->s3fs) (0.10.0)\n",
      "Requirement already satisfied: python-dateutil<3.0.0,>=2.1 in /Users/ishirunkang/anaconda3/lib/python3.6/site-packages (from botocore>=1.12.91->s3fs) (2.6.1)\n",
      "Requirement already satisfied: urllib3<1.26,>=1.20; python_version != \"3.4\" in /Users/ishirunkang/anaconda3/lib/python3.6/site-packages (from botocore>=1.12.91->s3fs) (1.22)\n",
      "Requirement already satisfied: six>=1.5 in /Users/ishirunkang/anaconda3/lib/python3.6/site-packages (from python-dateutil<3.0.0,>=2.1->botocore>=1.12.91->s3fs) (1.11.0)\n",
      "\u001b[33mWARNING: You are using pip version 19.2.3, however version 20.1.1 is available.\n",
      "You should consider upgrading via the 'pip install --upgrade pip' command.\u001b[0m\n",
      "Requirement already satisfied: pyspark in /Users/ishirunkang/anaconda3/lib/python3.6/site-packages (3.0.0)\n",
      "Requirement already satisfied: py4j==0.10.9 in /Users/ishirunkang/anaconda3/lib/python3.6/site-packages (from pyspark) (0.10.9)\n",
      "\u001b[33mWARNING: You are using pip version 19.2.3, however version 20.1.1 is available.\n",
      "You should consider upgrading via the 'pip install --upgrade pip' command.\u001b[0m\n",
      "Requirement already up-to-date: pandas in /Users/ishirunkang/anaconda3/lib/python3.6/site-packages (1.0.5)\n",
      "Requirement already satisfied, skipping upgrade: numpy>=1.13.3 in /Users/ishirunkang/anaconda3/lib/python3.6/site-packages (from pandas) (1.14.2)\n",
      "Requirement already satisfied, skipping upgrade: python-dateutil>=2.6.1 in /Users/ishirunkang/anaconda3/lib/python3.6/site-packages (from pandas) (2.6.1)\n",
      "Requirement already satisfied, skipping upgrade: pytz>=2017.2 in /Users/ishirunkang/anaconda3/lib/python3.6/site-packages (from pandas) (2017.2)\n",
      "Requirement already satisfied, skipping upgrade: six>=1.5 in /Users/ishirunkang/anaconda3/lib/python3.6/site-packages (from python-dateutil>=2.6.1->pandas) (1.11.0)\n",
      "\u001b[33mWARNING: You are using pip version 19.2.3, however version 20.1.1 is available.\n",
      "You should consider upgrading via the 'pip install --upgrade pip' command.\u001b[0m\n",
      "Requirement already satisfied: cqlsh in /Users/ishirunkang/anaconda3/lib/python3.6/site-packages (5.0.4)\n",
      "Requirement already satisfied: cassandra-driver in /Users/ishirunkang/anaconda3/lib/python3.6/site-packages (from cqlsh) (3.24.0)\n",
      "Requirement already satisfied: cql in /Users/ishirunkang/anaconda3/lib/python3.6/site-packages (from cqlsh) (1.4.0)\n",
      "Requirement already satisfied: geomet<0.3,>=0.1 in /Users/ishirunkang/anaconda3/lib/python3.6/site-packages (from cassandra-driver->cqlsh) (0.2.1.post1)\n",
      "Requirement already satisfied: six>=1.9 in /Users/ishirunkang/anaconda3/lib/python3.6/site-packages (from cassandra-driver->cqlsh) (1.11.0)\n",
      "Requirement already satisfied: thrift in /Users/ishirunkang/anaconda3/lib/python3.6/site-packages (from cql->cqlsh) (0.13.0)\n",
      "Requirement already satisfied: click in /Users/ishirunkang/anaconda3/lib/python3.6/site-packages (from geomet<0.3,>=0.1->cassandra-driver->cqlsh) (6.7)\n",
      "\u001b[33mWARNING: You are using pip version 19.2.3, however version 20.1.1 is available.\n",
      "You should consider upgrading via the 'pip install --upgrade pip' command.\u001b[0m\n"
     ]
    }
   ],
   "source": [
    "#Before we continue, we need to install related python package.\n",
    "import sys\n",
    "\n",
    "!{sys.executable} -m pip install boto3\n",
    "!{sys.executable} -m pip install s3fs\n",
    "!{sys.executable} -m pip install pyspark\n",
    "!{sys.executable} -m pip install --upgrade pandas\n",
    "!{sys.executable} -m pip install cqlsh"
   ]
  },
  {
   "cell_type": "code",
   "execution_count": 6,
   "metadata": {
    "collapsed": true
   },
   "outputs": [],
   "source": [
    "# Do all imports and installs here\n",
    "import configparser\n",
    "import pandas as pd\n",
    "import os\n",
    "import boto3\n",
    "import uuid"
   ]
  },
  {
   "cell_type": "code",
   "execution_count": 7,
   "metadata": {
    "collapsed": true
   },
   "outputs": [],
   "source": [
    "config = configparser.ConfigParser()\n",
    "config.read('iam.cfg')\n",
    "os.environ['AWS_ACCESS_KEY_ID']=config['AWS_CREDS']['AWS_ACCESS_KEY_ID']\n",
    "os.environ['AWS_SECRET_ACCESS_KEY']=config['AWS_CREDS']['AWS_SECRET_ACCESS_KEY']\n",
    "\n",
    "client=boto3.client('s3')\n",
    "\n",
    "global_land_temperature_url = 's3://srk-data-eng-capstone/GlobalLandTemperaturesByCity.csv'\n",
    "airport_codes_url = 's3://srk-data-eng-capstone/airport-codes_csv.csv'\n",
    "us_city_demographics_url = 's3://srk-data-eng-capstone/us-cities-demographics.csv'\n"
   ]
  },
  {
   "cell_type": "code",
   "execution_count": 26,
   "metadata": {},
   "outputs": [
    {
     "data": {
      "text/html": [
       "<div>\n",
       "<style>\n",
       "    .dataframe thead tr:only-child th {\n",
       "        text-align: right;\n",
       "    }\n",
       "\n",
       "    .dataframe thead th {\n",
       "        text-align: left;\n",
       "    }\n",
       "\n",
       "    .dataframe tbody tr th {\n",
       "        vertical-align: top;\n",
       "    }\n",
       "</style>\n",
       "<table border=\"1\" class=\"dataframe\">\n",
       "  <thead>\n",
       "    <tr style=\"text-align: right;\">\n",
       "      <th></th>\n",
       "      <th>dt</th>\n",
       "      <th>AverageTemperature</th>\n",
       "      <th>AverageTemperatureUncertainty</th>\n",
       "      <th>City</th>\n",
       "      <th>Country</th>\n",
       "      <th>Latitude</th>\n",
       "      <th>Longitude</th>\n",
       "    </tr>\n",
       "  </thead>\n",
       "  <tbody>\n",
       "    <tr>\n",
       "      <th>0</th>\n",
       "      <td>1743-11-01</td>\n",
       "      <td>6.068</td>\n",
       "      <td>1.737</td>\n",
       "      <td>Århus</td>\n",
       "      <td>Denmark</td>\n",
       "      <td>57.05N</td>\n",
       "      <td>10.33E</td>\n",
       "    </tr>\n",
       "  </tbody>\n",
       "</table>\n",
       "</div>"
      ],
      "text/plain": [
       "           dt  AverageTemperature  AverageTemperatureUncertainty   City  \\\n",
       "0  1743-11-01               6.068                          1.737  Århus   \n",
       "\n",
       "   Country Latitude Longitude  \n",
       "0  Denmark   57.05N    10.33E  "
      ]
     },
     "execution_count": 26,
     "metadata": {},
     "output_type": "execute_result"
    }
   ],
   "source": [
    "# globalLandTemperature = pd.read_csv(global_land_temperature_url)\n",
    "# globalLandTemperature.head(1)"
   ]
  },
  {
   "cell_type": "markdown",
   "metadata": {},
   "source": [
    "### Scope the Project and Gather Data\n",
    "\n",
    "#### Project description:\n",
    "\n",
    "This project will be separate to multiple parts, and all four dataset will be used. \n",
    "\n",
    "Before we talk about the details, we need to know the characteristics of relational DB and non-relational DB.\n",
    "\n",
    "For relational DB, its characteristics is low redundancy and high completeness, which means it is very suitable for small or medium size data, and the database does not change so much. In our case, we should store temperature, airport code and US cities demographic data into a relational database that meets 3NF because it does not always change so much and the volume of data is not that large.\n",
    "\n",
    "For non-relational DB, its characteristics is higher elasticity, faster read & write speed and evoving data volume. In our case, we should save I94 data into non-relational DB. Because this piece of data need to make ETL process almost every minutes in real world background, and it need dynamic write and read for real-time data monitoring.\n",
    "\n",
    "\n",
    "The final solution will work as a a database management system. When user input the time or time period and the column they interested in (e.g., visa type), the system will return related data as a dataframe. For example, a user needs to know where are the busiest airport for investment visa holder(E-1 visa) in 2016 and its basic information such as temperature, and the status of the city such as population(age, majority race, etc.), or when is the peak-time for international student come to the United States and where are they come from.\n",
    "\n",
    "* Data will be imported from Amazon S3\n",
    "* Relational DB will be implement on AWS Redshift\n",
    "* Non-Relationalship DB will be implement on Amazon Keyspace\n",
    "* Data cleaning and ETL process will be implement on Amazon EMR with Spark\n",
    "\n",
    "#### The dataset is going to use in this project are:\n",
    "\n",
    "* I94 Immigration Data: This data comes from the US National Tourism and Trade Office. A data dictionary is included in the workspace. https://travel.trade.gov/research/reports/i94/historical/2016.html is where the data comes from. There's a sample file so you can take a look at the data in csv format before reading it all in. You do not have to use the entire dataset, just use what you need to accomplish the goal you set at the beginning of the project.\n",
    "* World Temperature Data: This dataset came from Kaggle. You can read more about it here: https://www.kaggle.com/berkeleyearth/climate-change-earth-surface-temperature-data.\n",
    "* U.S. City Demographic Data: This data comes from OpenSoft. You can read more about it here: https://public.opendatasoft.com/explore/dataset/us-cities-demographics/export/.\n",
    "* Airport Code Table: This is a simple table of airport codes and corresponding cities. It comes from here:https://datahub.io/core/airport-codes#data."
   ]
  },
  {
   "cell_type": "code",
   "execution_count": 16,
   "metadata": {
    "collapsed": true
   },
   "outputs": [],
   "source": [
    "\t\n",
    "from pyspark.sql import SparkSession\n",
    "spark = SparkSession.builder.\\\n",
    "config(\"spark.jars.packages\",\"saurfang:spark-sas7bdat:2.0.0-s_2.11\")\\\n",
    ".enableHiveSupport().getOrCreate()\n",
    "\n",
    "i94_url='s3a://srk-data-eng-capstone/i94/i94_jan16_sub.sas7bdat'\n",
    "i94 = pd.read_sas(i94_url, 'sas7bdat',encoding=\"ISO-8859-1\").drop_duplicates()\n",
    "i94['id_'] = pd.Series([uuid.uuid1() for each in range(len(i94))])\n",
    "\n",
    "sql = '''SELECT id_, cicid, i94yr, i94mon, i94cit, i94res, i94port,\n",
    "       arrdate, i94mode, i94addr, depdate, i94bir, i94visa,\n",
    "       count, dtadfile, visapost, occup, entdepa, entdepd,\n",
    "       entdepu, matflag, biryear, dtaddto, gender, insnum,\n",
    "       airline, admnum, fltno, visatype FROM i94'''\n",
    "\n",
    "while True:\n",
    "    if os.path.isdir('16_jan.parquet'):\n",
    "        break\n",
    "    else:\n",
    "        i94.to_csv('16_jan.csv')\n",
    "        df_spark=spark.read.option('header','true').csv('16_jan.csv')\n",
    "        df_spark.createOrReplaceTempView('i94')\n",
    "        parquet_data=spark.sql(sql)\n",
    "        parquet_data.write.parquet('16_jan.parquet',mode='overwrite')\n",
    "        os.system('aws s3 cp 16_jan.parquet s3://i94-backup --recursive')\n",
    "        break        \n",
    "\n",
    "\n"
   ]
  },
  {
   "cell_type": "code",
   "execution_count": 9,
   "metadata": {},
   "outputs": [],
   "source": [
    "from cassandra.cluster import Cluster\n",
    "from ssl import SSLContext, PROTOCOL_TLSv1, CERT_REQUIRED\n",
    "from cassandra.auth import PlainTextAuthProvider\n",
    "\n",
    "\n",
    "ssl_context = SSLContext(PROTOCOL_TLSv1)\n",
    "ssl_context.load_verify_locations('AmazonRootCA1.pem')\n",
    "ssl_context.verify_mode = CERT_REQUIRED\n",
    "auth_provider = PlainTextAuthProvider(username=str(config['APACHE_CASSANDRA_CREDS']['CASSANDRA_USERNAME']), password=str(config['APACHE_CASSANDRA_CREDS']['CASSANDRA_PASSWORD']))\n",
    "cluster = Cluster(['cassandra.eu-west-1.amazonaws.com'], ssl_context=ssl_context, auth_provider=auth_provider, port=9142)"
   ]
  },
  {
   "cell_type": "code",
   "execution_count": 24,
   "metadata": {},
   "outputs": [
    {
     "name": "stdout",
     "output_type": "stream",
     "text": [
      "[Row(keyspace_name='system_schema', durable_writes=True, replication=OrderedMapSerializedKey([('class', 'com.amazonaws.cassandra.DefaultReplication')])), Row(keyspace_name='system_schema_mcs', durable_writes=True, replication=OrderedMapSerializedKey([('class', 'com.amazonaws.cassandra.DefaultReplication')])), Row(keyspace_name='system', durable_writes=True, replication=OrderedMapSerializedKey([('class', 'com.amazonaws.cassandra.DefaultReplication')])), Row(keyspace_name='i94', durable_writes=True, replication=OrderedMapSerializedKey([('class', 'com.amazonaws.cassandra.DefaultReplication')]))]\n"
     ]
    }
   ],
   "source": [
    "session = cluster.connect()\n",
    "create_keyspace=\"\"\"CREATE KEYSPACE IF NOT EXISTS \"i94\"\n",
    "                   WITH REPLICATION={'class':'SingleRegionStrategy'}\"\"\"\n",
    "session.execute(create_keyspace)\n",
    "test=session.execute('SELECT * FROM system_schema.keyspaces')\n",
    "print(test.current_rows)"
   ]
  },
  {
   "cell_type": "code",
   "execution_count": 25,
   "metadata": {
    "collapsed": true
   },
   "outputs": [
    {
     "name": "stdout",
     "output_type": "stream",
     "text": [
      "[Row(keyspace_name='i94', table_name='i94', bloom_filter_fp_chance=0.01, caching=OrderedMapSerializedKey([('class', 'com.amazonaws.cassandra.DefaultCaching')]), cdc=None, comment='', compaction=OrderedMapSerializedKey([('class', 'com.amazonaws.cassandra.DefaultCompaction')]), compression=OrderedMapSerializedKey([('class', 'com.amazonaws.cassandra.DefaultCompression')]), crc_check_chance=1.0, dclocal_read_repair_chance=0.0, default_time_to_live=0, extensions=OrderedMapSerializedKey([]), flags=SortedSet(['compound']), gc_grace_seconds=7776000, id=UUID('eb5bb07a-8110-391c-b125-8fd997124550'), max_index_interval=2048, memtable_flush_period_in_ms=3600000, min_index_interval=128, read_repair_chance=0.0, speculative_retry='99PERCENTILE')]\n"
     ]
    }
   ],
   "source": [
    "create_table=\"\"\"CREATE TABLE IF NOT EXISTS \"i94\".i94 (\n",
    "                                                      cicid DOUBLE,\n",
    "                                                      i94yr DOUBLE,\n",
    "                                                      i94mon DOUBLE,\n",
    "                                                      i94cit DOUBLE,\n",
    "                                                      i94res DOUBLE,\n",
    "                                                      i94port TEXT,\n",
    "                                                      arrdate DOUBLE,\n",
    "                                                      i94mode DOUBLE,\n",
    "                                                      i94addr DOUBLE,\n",
    "                                                      depdate TEXT,\n",
    "                                                      i94bir DOUBLE,\n",
    "                                                      i94visa DOUBLE,\n",
    "                                                      count DOUBLE,\n",
    "                                                      dtadfile DOUBLE,\n",
    "                                                      visapost TEXT,\n",
    "                                                      occup TEXT,\n",
    "                                                      entdepa TEXT,\n",
    "                                                      entdepd TEXT,\n",
    "                                                      entdepu TEXT,\n",
    "                                                      matflag TEXT,\n",
    "                                                      biryear DOUBLE,\n",
    "                                                      dtaddto TEXT,\n",
    "                                                      gender TEXT,\n",
    "                                                      insnum TEXT,\n",
    "                                                      airline TEXT,\n",
    "                                                      admnum DOUBLE,\n",
    "                                                      fltno TEXT,\n",
    "                                                      visatype TEXT,\n",
    "                                                      id_ TEXT,\n",
    "                                                      PRIMARY KEY(id_)\n",
    "                ) \"\"\"\n",
    "session.execute(create_table)\n",
    "test_two=session.execute(\"SELECT * from system_schema.tables WHERE keyspace_name='i94';\")\n",
    "print(test_two.current_rows)"
   ]
  },
  {
   "cell_type": "code",
   "execution_count": 29,
   "metadata": {
    "collapsed": true
   },
   "outputs": [
    {
     "name": "stdout",
     "output_type": "stream",
     "text": [
      "[Row(keyspace_name='i94', table_name='i94', column_name='id_', clustering_order='none', column_name_bytes=b'id_', kind='partition_key', position=0, type='text'), Row(keyspace_name='i94', table_name='i94', column_name='admnum', clustering_order='none', column_name_bytes=b'admnum', kind='regular', position=-1, type='double'), Row(keyspace_name='i94', table_name='i94', column_name='airline', clustering_order='none', column_name_bytes=b'airline', kind='regular', position=-1, type='text'), Row(keyspace_name='i94', table_name='i94', column_name='arrdate', clustering_order='none', column_name_bytes=b'arrdate', kind='regular', position=-1, type='double'), Row(keyspace_name='i94', table_name='i94', column_name='biryear', clustering_order='none', column_name_bytes=b'biryear', kind='regular', position=-1, type='double'), Row(keyspace_name='i94', table_name='i94', column_name='cicid', clustering_order='none', column_name_bytes=b'cicid', kind='regular', position=-1, type='double'), Row(keyspace_name='i94', table_name='i94', column_name='count', clustering_order='none', column_name_bytes=b'count', kind='regular', position=-1, type='double'), Row(keyspace_name='i94', table_name='i94', column_name='depdate', clustering_order='none', column_name_bytes=b'depdate', kind='regular', position=-1, type='text'), Row(keyspace_name='i94', table_name='i94', column_name='dtaddto', clustering_order='none', column_name_bytes=b'dtaddto', kind='regular', position=-1, type='text'), Row(keyspace_name='i94', table_name='i94', column_name='dtadfile', clustering_order='none', column_name_bytes=b'dtadfile', kind='regular', position=-1, type='double'), Row(keyspace_name='i94', table_name='i94', column_name='entdepa', clustering_order='none', column_name_bytes=b'entdepa', kind='regular', position=-1, type='text'), Row(keyspace_name='i94', table_name='i94', column_name='entdepd', clustering_order='none', column_name_bytes=b'entdepd', kind='regular', position=-1, type='text'), Row(keyspace_name='i94', table_name='i94', column_name='entdepu', clustering_order='none', column_name_bytes=b'entdepu', kind='regular', position=-1, type='text'), Row(keyspace_name='i94', table_name='i94', column_name='fltno', clustering_order='none', column_name_bytes=b'fltno', kind='regular', position=-1, type='text'), Row(keyspace_name='i94', table_name='i94', column_name='gender', clustering_order='none', column_name_bytes=b'gender', kind='regular', position=-1, type='text'), Row(keyspace_name='i94', table_name='i94', column_name='i94addr', clustering_order='none', column_name_bytes=b'i94addr', kind='regular', position=-1, type='double'), Row(keyspace_name='i94', table_name='i94', column_name='i94bir', clustering_order='none', column_name_bytes=b'i94bir', kind='regular', position=-1, type='double'), Row(keyspace_name='i94', table_name='i94', column_name='i94cit', clustering_order='none', column_name_bytes=b'i94cit', kind='regular', position=-1, type='double'), Row(keyspace_name='i94', table_name='i94', column_name='i94mode', clustering_order='none', column_name_bytes=b'i94mode', kind='regular', position=-1, type='double'), Row(keyspace_name='i94', table_name='i94', column_name='i94mon', clustering_order='none', column_name_bytes=b'i94mon', kind='regular', position=-1, type='double'), Row(keyspace_name='i94', table_name='i94', column_name='i94port', clustering_order='none', column_name_bytes=b'i94port', kind='regular', position=-1, type='text'), Row(keyspace_name='i94', table_name='i94', column_name='i94res', clustering_order='none', column_name_bytes=b'i94res', kind='regular', position=-1, type='double'), Row(keyspace_name='i94', table_name='i94', column_name='i94visa', clustering_order='none', column_name_bytes=b'i94visa', kind='regular', position=-1, type='double'), Row(keyspace_name='i94', table_name='i94', column_name='i94yr', clustering_order='none', column_name_bytes=b'i94yr', kind='regular', position=-1, type='double'), Row(keyspace_name='i94', table_name='i94', column_name='insnum', clustering_order='none', column_name_bytes=b'insnum', kind='regular', position=-1, type='text'), Row(keyspace_name='i94', table_name='i94', column_name='matflag', clustering_order='none', column_name_bytes=b'matflag', kind='regular', position=-1, type='text'), Row(keyspace_name='i94', table_name='i94', column_name='occup', clustering_order='none', column_name_bytes=b'occup', kind='regular', position=-1, type='text'), Row(keyspace_name='i94', table_name='i94', column_name='visapost', clustering_order='none', column_name_bytes=b'visapost', kind='regular', position=-1, type='text'), Row(keyspace_name='i94', table_name='i94', column_name='visatype', clustering_order='none', column_name_bytes=b'visatype', kind='regular', position=-1, type='text')]\n"
     ]
    }
   ],
   "source": [
    "test_three=session.execute(\"SELECT * FROM system_schema.columns WHERE keyspace_name = 'i94' AND table_name = 'i94';\")\n",
    "print(test_three.current_rows)"
   ]
  },
  {
   "cell_type": "code",
   "execution_count": null,
   "metadata": {
    "collapsed": true
   },
   "outputs": [],
   "source": [
    "while True:\n",
    "    try:\n",
    "        os.remove('16_jan.csv')\n",
    "    except:\n",
    "        break"
   ]
  },
  {
   "cell_type": "code",
   "execution_count": 19,
   "metadata": {
    "collapsed": true
   },
   "outputs": [
    {
     "name": "stdout",
     "output_type": "stream",
     "text": [
      "+--------------------+-----+------+------+------+------+-------+-------+-------+-------+-------+------+-------+-----+--------+--------+-----+-------+-------+-------+-------+-------+--------+------+------+-------+-----------+-----+--------+\n",
      "|                 id_|cicid| i94yr|i94mon|i94cit|i94res|i94port|arrdate|i94mode|i94addr|depdate|i94bir|i94visa|count|dtadfile|visapost|occup|entdepa|entdepd|entdepu|matflag|biryear| dtaddto|gender|insnum|airline|     admnum|fltno|visatype|\n",
      "+--------------------+-----+------+------+------+------+-------+-------+-------+-------+-------+------+-------+-----+--------+--------+-----+-------+-------+-------+-------+-------+--------+------+------+-------+-----------+-----+--------+\n",
      "|ad9a5e74-c6a5-11e...|  7.0|2016.0|   1.0| 101.0| 101.0|    BOS|20465.0|    1.0|     MA|   null|  20.0|    3.0|  1.0|    null|    null| null|      T|   null|   null|   null| 1996.0|     D/S|     M|  null|     LH|346608285.0|  424|      F1|\n",
      "|ad9a5fa8-c6a5-11e...|  8.0|2016.0|   1.0| 101.0| 101.0|    BOS|20465.0|    1.0|     MA|   null|  20.0|    3.0|  1.0|    null|    null| null|      T|   null|   null|   null| 1996.0|     D/S|     M|  null|     LH|346627585.0|  424|      F1|\n",
      "|ad9a5ff0-c6a5-11e...|  9.0|2016.0|   1.0| 101.0| 101.0|    BOS|20469.0|    1.0|     CT|20480.0|  17.0|    2.0|  1.0|    null|    null| null|      T|      N|   null|      M| 1999.0|07152016|     F|  null|     AF|381092385.0|  338|      B2|\n",
      "|ad9a6022-c6a5-11e...| 10.0|2016.0|   1.0| 101.0| 101.0|    BOS|20469.0|    1.0|     CT|20499.0|  45.0|    2.0|  1.0|    null|    null| null|      T|      N|   null|      M| 1971.0|07152016|     F|  null|     AF|381087885.0|  338|      B2|\n",
      "|ad9a6054-c6a5-11e...| 11.0|2016.0|   1.0| 101.0| 101.0|    BOS|20469.0|    1.0|     CT|20499.0|  12.0|    2.0|  1.0|    null|    null| null|      T|      N|   null|      M| 2004.0|07152016|     M|  null|     AF|381078685.0|  338|      B2|\n",
      "+--------------------+-----+------+------+------+------+-------+-------+-------+-------+-------+------+-------+-----+--------+--------+-----+-------+-------+-------+-------+-------+--------+------+------+-------+-----------+-----+--------+\n",
      "\n"
     ]
    }
   ],
   "source": [
    "data=spark.read.parquet('16_jan.parquet')\n",
    "data.createOrReplaceTempView('temp')\n",
    "result=spark.sql('SELECT * FROM temp LIMIT 5')\n",
    "result.show()"
   ]
  },
  {
   "cell_type": "markdown",
   "metadata": {},
   "source": [
    "### Step 2: Explore and Assess the Data\n",
    "#### Explore the Data \n",
    "Identify data quality issues, like missing values, duplicate data, etc.\n",
    "\n",
    "#### Cleaning Steps\n",
    "Document steps necessary to clean the data"
   ]
  },
  {
   "cell_type": "code",
   "execution_count": null,
   "metadata": {
    "collapsed": true
   },
   "outputs": [],
   "source": [
    "# Performing cleaning tasks here\n",
    "\n",
    "\n",
    "\n"
   ]
  },
  {
   "cell_type": "markdown",
   "metadata": {},
   "source": [
    "### Step 3: Define the Data Model\n",
    "#### 3.1 Conceptual Data Model\n",
    "Map out the conceptual data model and explain why you chose that model\n",
    "\n",
    "#### 3.2 Mapping Out Data Pipelines\n",
    "List the steps necessary to pipeline the data into the chosen data model"
   ]
  },
  {
   "cell_type": "markdown",
   "metadata": {},
   "source": [
    "### Step 4: Run Pipelines to Model the Data \n",
    "#### 4.1 Create the data model\n",
    "Build the data pipelines to create the data model."
   ]
  },
  {
   "cell_type": "code",
   "execution_count": null,
   "metadata": {
    "collapsed": true
   },
   "outputs": [],
   "source": [
    "# Write code here"
   ]
  },
  {
   "cell_type": "markdown",
   "metadata": {},
   "source": [
    "#### 4.2 Data Quality Checks\n",
    "Explain the data quality checks you'll perform to ensure the pipeline ran as expected. These could include:\n",
    " * Integrity constraints on the relational database (e.g., unique key, data type, etc.)\n",
    " * Unit tests for the scripts to ensure they are doing the right thing\n",
    " * Source/Count checks to ensure completeness\n",
    " \n",
    "Run Quality Checks"
   ]
  },
  {
   "cell_type": "code",
   "execution_count": null,
   "metadata": {
    "collapsed": true
   },
   "outputs": [],
   "source": [
    "# Perform quality checks here"
   ]
  },
  {
   "cell_type": "markdown",
   "metadata": {},
   "source": [
    "#### 4.3 Data dictionary \n",
    "Create a data dictionary for your data model. For each field, provide a brief description of what the data is and where it came from. You can include the data dictionary in the notebook or in a separate file."
   ]
  },
  {
   "cell_type": "markdown",
   "metadata": {},
   "source": [
    "#### Step 5: Complete Project Write Up\n",
    "* Clearly state the rationale for the choice of tools and technologies for the project.\n",
    "* Propose how often the data should be updated and why.\n",
    "* Write a description of how you would approach the problem differently under the following scenarios:\n",
    " * The data was increased by 100x.\n",
    " * The data populates a dashboard that must be updated on a daily basis by 7am every day.\n",
    " * The database needed to be accessed by 100+ people."
   ]
  },
  {
   "cell_type": "code",
   "execution_count": null,
   "metadata": {
    "collapsed": true
   },
   "outputs": [],
   "source": []
  },
  {
   "cell_type": "code",
   "execution_count": null,
   "metadata": {
    "collapsed": true
   },
   "outputs": [],
   "source": []
  },
  {
   "cell_type": "code",
   "execution_count": null,
   "metadata": {
    "collapsed": true
   },
   "outputs": [],
   "source": []
  },
  {
   "cell_type": "code",
   "execution_count": null,
   "metadata": {
    "collapsed": true
   },
   "outputs": [],
   "source": []
  },
  {
   "cell_type": "code",
   "execution_count": null,
   "metadata": {
    "collapsed": true
   },
   "outputs": [],
   "source": []
  },
  {
   "cell_type": "code",
   "execution_count": null,
   "metadata": {
    "collapsed": true
   },
   "outputs": [],
   "source": []
  }
 ],
 "metadata": {
  "kernelspec": {
   "display_name": "Python 3",
   "language": "python",
   "name": "python3"
  },
  "language_info": {
   "codemirror_mode": {
    "name": "ipython",
    "version": 3
   },
   "file_extension": ".py",
   "mimetype": "text/x-python",
   "name": "python",
   "nbconvert_exporter": "python",
   "pygments_lexer": "ipython3",
   "version": "3.6.8"
  }
 },
 "nbformat": 4,
 "nbformat_minor": 2
}
